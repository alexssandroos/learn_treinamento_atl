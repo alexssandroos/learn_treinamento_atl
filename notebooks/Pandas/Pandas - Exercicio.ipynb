{
 "cells": [
  {
   "cell_type": "markdown",
   "metadata": {},
   "source": [
    "# Exercício\n",
    "\n",
    "O dataset utilizado neste execício é o [SF Salaries Dataset](https://www.kaggle.com/kaggle/sf-salaries), disponibilizado em uma competição do Kaggle."
   ]
  },
  {
   "cell_type": "code",
   "execution_count": 8,
   "metadata": {
    "collapsed": true
   },
   "outputs": [],
   "source": [
    "import pandas as pd\n",
    "import seaborn as sbn\n",
    "import matplotlib.pyplot as plt\n",
    "pd.options.display.float_format = '{:,.2f}'.format"
   ]
  },
  {
   "cell_type": "markdown",
   "metadata": {},
   "source": [
    "### Faça a leitura do arquivo \"Salaries.csv\""
   ]
  },
  {
   "cell_type": "code",
   "execution_count": 2,
   "metadata": {},
   "outputs": [],
   "source": [
    "df = pd.read_csv('../../data/Salaries.csv')"
   ]
  },
  {
   "cell_type": "code",
   "execution_count": 5,
   "metadata": {},
   "outputs": [
    {
     "data": {
      "text/html": [
       "<div>\n",
       "<style scoped>\n",
       "    .dataframe tbody tr th:only-of-type {\n",
       "        vertical-align: middle;\n",
       "    }\n",
       "\n",
       "    .dataframe tbody tr th {\n",
       "        vertical-align: top;\n",
       "    }\n",
       "\n",
       "    .dataframe thead th {\n",
       "        text-align: right;\n",
       "    }\n",
       "</style>\n",
       "<table border=\"1\" class=\"dataframe\">\n",
       "  <thead>\n",
       "    <tr style=\"text-align: right;\">\n",
       "      <th></th>\n",
       "      <th>Id</th>\n",
       "      <th>EmployeeName</th>\n",
       "      <th>JobTitle</th>\n",
       "      <th>BasePay</th>\n",
       "      <th>OvertimePay</th>\n",
       "      <th>OtherPay</th>\n",
       "      <th>Benefits</th>\n",
       "      <th>TotalPay</th>\n",
       "      <th>TotalPayBenefits</th>\n",
       "      <th>Year</th>\n",
       "      <th>Notes</th>\n",
       "      <th>Agency</th>\n",
       "      <th>Status</th>\n",
       "    </tr>\n",
       "  </thead>\n",
       "  <tbody>\n",
       "    <tr>\n",
       "      <th>0</th>\n",
       "      <td>1</td>\n",
       "      <td>NATHANIEL FORD</td>\n",
       "      <td>GENERAL MANAGER-METROPOLITAN TRANSIT AUTHORITY</td>\n",
       "      <td>167,411.18</td>\n",
       "      <td>0.00</td>\n",
       "      <td>400,184.25</td>\n",
       "      <td>nan</td>\n",
       "      <td>567,595.43</td>\n",
       "      <td>567,595.43</td>\n",
       "      <td>2011</td>\n",
       "      <td>nan</td>\n",
       "      <td>San Francisco</td>\n",
       "      <td>nan</td>\n",
       "    </tr>\n",
       "    <tr>\n",
       "      <th>1</th>\n",
       "      <td>2</td>\n",
       "      <td>GARY JIMENEZ</td>\n",
       "      <td>CAPTAIN III (POLICE DEPARTMENT)</td>\n",
       "      <td>155,966.02</td>\n",
       "      <td>245,131.88</td>\n",
       "      <td>137,811.38</td>\n",
       "      <td>nan</td>\n",
       "      <td>538,909.28</td>\n",
       "      <td>538,909.28</td>\n",
       "      <td>2011</td>\n",
       "      <td>nan</td>\n",
       "      <td>San Francisco</td>\n",
       "      <td>nan</td>\n",
       "    </tr>\n",
       "    <tr>\n",
       "      <th>2</th>\n",
       "      <td>3</td>\n",
       "      <td>ALBERT PARDINI</td>\n",
       "      <td>CAPTAIN III (POLICE DEPARTMENT)</td>\n",
       "      <td>212,739.13</td>\n",
       "      <td>106,088.18</td>\n",
       "      <td>16,452.60</td>\n",
       "      <td>nan</td>\n",
       "      <td>335,279.91</td>\n",
       "      <td>335,279.91</td>\n",
       "      <td>2011</td>\n",
       "      <td>nan</td>\n",
       "      <td>San Francisco</td>\n",
       "      <td>nan</td>\n",
       "    </tr>\n",
       "  </tbody>\n",
       "</table>\n",
       "</div>"
      ],
      "text/plain": [
       "   Id    EmployeeName                                        JobTitle  \\\n",
       "0   1  NATHANIEL FORD  GENERAL MANAGER-METROPOLITAN TRANSIT AUTHORITY   \n",
       "1   2    GARY JIMENEZ                 CAPTAIN III (POLICE DEPARTMENT)   \n",
       "2   3  ALBERT PARDINI                 CAPTAIN III (POLICE DEPARTMENT)   \n",
       "\n",
       "     BasePay  OvertimePay   OtherPay  Benefits   TotalPay  TotalPayBenefits  \\\n",
       "0 167,411.18         0.00 400,184.25       nan 567,595.43        567,595.43   \n",
       "1 155,966.02   245,131.88 137,811.38       nan 538,909.28        538,909.28   \n",
       "2 212,739.13   106,088.18  16,452.60       nan 335,279.91        335,279.91   \n",
       "\n",
       "   Year  Notes         Agency  Status  \n",
       "0  2011    nan  San Francisco     nan  \n",
       "1  2011    nan  San Francisco     nan  \n",
       "2  2011    nan  San Francisco     nan  "
      ]
     },
     "execution_count": 5,
     "metadata": {},
     "output_type": "execute_result"
    }
   ],
   "source": [
    "df.head(3)"
   ]
  },
  {
   "cell_type": "markdown",
   "metadata": {},
   "source": [
    "### Apresente algumas informações sobre o dataframe com .info()"
   ]
  },
  {
   "cell_type": "code",
   "execution_count": 6,
   "metadata": {},
   "outputs": [
    {
     "name": "stdout",
     "output_type": "stream",
     "text": [
      "<class 'pandas.core.frame.DataFrame'>\n",
      "RangeIndex: 148654 entries, 0 to 148653\n",
      "Data columns (total 13 columns):\n",
      "Id                  148654 non-null int64\n",
      "EmployeeName        148654 non-null object\n",
      "JobTitle            148654 non-null object\n",
      "BasePay             148045 non-null float64\n",
      "OvertimePay         148650 non-null float64\n",
      "OtherPay            148650 non-null float64\n",
      "Benefits            112491 non-null float64\n",
      "TotalPay            148654 non-null float64\n",
      "TotalPayBenefits    148654 non-null float64\n",
      "Year                148654 non-null int64\n",
      "Notes               0 non-null float64\n",
      "Agency              148654 non-null object\n",
      "Status              0 non-null float64\n",
      "dtypes: float64(8), int64(2), object(3)\n",
      "memory usage: 14.7+ MB\n"
     ]
    }
   ],
   "source": [
    "df.info()"
   ]
  },
  {
   "cell_type": "markdown",
   "metadata": {},
   "source": [
    "### Qual a média de valores na coluna \"BasePay\""
   ]
  },
  {
   "cell_type": "code",
   "execution_count": 7,
   "metadata": {},
   "outputs": [
    {
     "data": {
      "text/plain": [
       "66325.4488404877"
      ]
     },
     "execution_count": 7,
     "metadata": {},
     "output_type": "execute_result"
    }
   ],
   "source": [
    "df['BasePay'].mean()"
   ]
  },
  {
   "cell_type": "markdown",
   "metadata": {},
   "source": [
    "### Qual o maior valor da coluna \"OvertimePay\""
   ]
  },
  {
   "cell_type": "code",
   "execution_count": 8,
   "metadata": {},
   "outputs": [
    {
     "data": {
      "text/plain": [
       "245131.88"
      ]
     },
     "execution_count": 8,
     "metadata": {},
     "output_type": "execute_result"
    }
   ],
   "source": [
    "df['OvertimePay'].max()"
   ]
  },
  {
   "cell_type": "markdown",
   "metadata": {},
   "source": [
    "### Qual o \"JobTitle\" de ALBERT PARDINI (EmployeeName) ? "
   ]
  },
  {
   "cell_type": "code",
   "execution_count": 45,
   "metadata": {},
   "outputs": [
    {
     "data": {
      "text/plain": [
       "'CAPTAIN III (POLICE DEPARTMENT)'"
      ]
     },
     "execution_count": 45,
     "metadata": {},
     "output_type": "execute_result"
    }
   ],
   "source": [
    "df[df['EmployeeName'] == 'ALBERT PARDINI']['JobTitle'].iloc[0]\n"
   ]
  },
  {
   "cell_type": "markdown",
   "metadata": {},
   "source": [
    "### Qual o salário de ALBERT PARDINI, incluindo os benefícios (TotalPayBenefits)?"
   ]
  },
  {
   "cell_type": "code",
   "execution_count": 10,
   "metadata": {},
   "outputs": [
    {
     "data": {
      "text/plain": [
       "2   335,279.91\n",
       "Name: TotalPayBenefits, dtype: float64"
      ]
     },
     "execution_count": 10,
     "metadata": {},
     "output_type": "execute_result"
    }
   ],
   "source": [
    "df[df['EmployeeName'] == 'ALBERT PARDINI']['TotalPayBenefits']"
   ]
  },
  {
   "cell_type": "markdown",
   "metadata": {},
   "source": [
    "### Qual o nome da pessoa com o maior salário? E quem tem o menor salário?"
   ]
  },
  {
   "cell_type": "code",
   "execution_count": 20,
   "metadata": {},
   "outputs": [
    {
     "data": {
      "text/html": [
       "<div>\n",
       "<style scoped>\n",
       "    .dataframe tbody tr th:only-of-type {\n",
       "        vertical-align: middle;\n",
       "    }\n",
       "\n",
       "    .dataframe tbody tr th {\n",
       "        vertical-align: top;\n",
       "    }\n",
       "\n",
       "    .dataframe thead th {\n",
       "        text-align: right;\n",
       "    }\n",
       "</style>\n",
       "<table border=\"1\" class=\"dataframe\">\n",
       "  <thead>\n",
       "    <tr style=\"text-align: right;\">\n",
       "      <th></th>\n",
       "      <th>Id</th>\n",
       "      <th>EmployeeName</th>\n",
       "      <th>JobTitle</th>\n",
       "      <th>BasePay</th>\n",
       "      <th>OvertimePay</th>\n",
       "      <th>OtherPay</th>\n",
       "      <th>Benefits</th>\n",
       "      <th>TotalPay</th>\n",
       "      <th>TotalPayBenefits</th>\n",
       "      <th>Year</th>\n",
       "      <th>Notes</th>\n",
       "      <th>Agency</th>\n",
       "      <th>Status</th>\n",
       "    </tr>\n",
       "  </thead>\n",
       "  <tbody>\n",
       "    <tr>\n",
       "      <th>72832</th>\n",
       "      <td>72833</td>\n",
       "      <td>Irwin Sidharta</td>\n",
       "      <td>Junior Clerk</td>\n",
       "      <td>-166.01</td>\n",
       "      <td>249.02</td>\n",
       "      <td>0.00</td>\n",
       "      <td>6.56</td>\n",
       "      <td>83.01</td>\n",
       "      <td>89.57</td>\n",
       "      <td>2012</td>\n",
       "      <td>nan</td>\n",
       "      <td>San Francisco</td>\n",
       "      <td>nan</td>\n",
       "    </tr>\n",
       "    <tr>\n",
       "      <th>72925</th>\n",
       "      <td>72926</td>\n",
       "      <td>Gregory P Suhr</td>\n",
       "      <td>Chief of Police</td>\n",
       "      <td>319,275.01</td>\n",
       "      <td>0.00</td>\n",
       "      <td>20,007.06</td>\n",
       "      <td>86,533.21</td>\n",
       "      <td>339,282.07</td>\n",
       "      <td>425,815.28</td>\n",
       "      <td>2013</td>\n",
       "      <td>nan</td>\n",
       "      <td>San Francisco</td>\n",
       "      <td>nan</td>\n",
       "    </tr>\n",
       "  </tbody>\n",
       "</table>\n",
       "</div>"
      ],
      "text/plain": [
       "          Id    EmployeeName         JobTitle    BasePay  OvertimePay  \\\n",
       "72832  72833  Irwin Sidharta     Junior Clerk    -166.01       249.02   \n",
       "72925  72926  Gregory P Suhr  Chief of Police 319,275.01         0.00   \n",
       "\n",
       "       OtherPay  Benefits   TotalPay  TotalPayBenefits  Year  Notes  \\\n",
       "72832      0.00      6.56      83.01             89.57  2012    nan   \n",
       "72925 20,007.06 86,533.21 339,282.07        425,815.28  2013    nan   \n",
       "\n",
       "              Agency  Status  \n",
       "72832  San Francisco     nan  \n",
       "72925  San Francisco     nan  "
      ]
     },
     "execution_count": 20,
     "metadata": {},
     "output_type": "execute_result"
    }
   ],
   "source": [
    "df[(df.BasePay == df.BasePay.max()) | (df.BasePay == df.BasePay.min())]"
   ]
  },
  {
   "cell_type": "markdown",
   "metadata": {},
   "source": [
    "### Qual a média salarial dos funcionários de 2011 a 2014? E qual a média do salário por ano?"
   ]
  },
  {
   "cell_type": "code",
   "execution_count": 13,
   "metadata": {},
   "outputs": [
    {
     "data": {
      "text/plain": [
       "66325.4488404877"
      ]
     },
     "execution_count": 13,
     "metadata": {},
     "output_type": "execute_result"
    }
   ],
   "source": [
    "df[(df['Year']>=2011) & (df['Year']<=2014)]['BasePay'].mean()"
   ]
  },
  {
   "cell_type": "code",
   "execution_count": 16,
   "metadata": {},
   "outputs": [
    {
     "data": {
      "text/plain": [
       "Year\n",
       "2011   63,595.96\n",
       "2012   65,436.41\n",
       "2013   69,630.03\n",
       "2014   66,564.42\n",
       "Name: BasePay, dtype: float64"
      ]
     },
     "execution_count": 16,
     "metadata": {},
     "output_type": "execute_result"
    }
   ],
   "source": [
    "df[(df['Year']>=2011) & (df['Year']<=2014)].groupby(by='Year')['BasePay'].mean()"
   ]
  },
  {
   "cell_type": "markdown",
   "metadata": {},
   "source": [
    "### Qual o desvio padrão dos salários, incluindo os benefícios?"
   ]
  },
  {
   "cell_type": "code",
   "execution_count": 17,
   "metadata": {},
   "outputs": [
    {
     "data": {
      "text/plain": [
       "62793.533483237705"
      ]
     },
     "execution_count": 17,
     "metadata": {},
     "output_type": "execute_result"
    }
   ],
   "source": [
    "df['TotalPayBenefits'].std()"
   ]
  },
  {
   "cell_type": "markdown",
   "metadata": {},
   "source": [
    "\n",
    "### Quantas pessoas estão dentro do intervalo de 1 desvio padrão?"
   ]
  },
  {
   "cell_type": "code",
   "execution_count": 107,
   "metadata": {},
   "outputs": [
    {
     "data": {
      "text/plain": [
       "91647"
      ]
     },
     "execution_count": 107,
     "metadata": {},
     "output_type": "execute_result"
    }
   ],
   "source": [
    "limite_min = df['BasePay'].mean() - df['BasePay'].std()\n",
    "limite_max = df['BasePay'].mean() + df['BasePay'].std()\n",
    "\n",
    "df[(df['BasePay']>=limite_min) & (df['BasePay']<=limite_max)]['Id'].count()"
   ]
  },
  {
   "cell_type": "code",
   "execution_count": 120,
   "metadata": {},
   "outputs": [
    {
     "data": {
      "text/plain": [
       "91647"
      ]
     },
     "execution_count": 120,
     "metadata": {},
     "output_type": "execute_result"
    }
   ],
   "source": [
    "def in_first_std(x, p_mean, p_std):\n",
    "    return (( x >= (p_mean-p_std)) & ( x <= (p_mean+p_std)))\n",
    "\n",
    "df[df['BasePay'].apply(in_first_std, args=(df.BasePay.mean(), df.BasePay.std()))]['Id'].count()"
   ]
  },
  {
   "cell_type": "markdown",
   "metadata": {},
   "source": [
    "========================================================"
   ]
  },
  {
   "cell_type": "markdown",
   "metadata": {},
   "source": [
    "## Desafios"
   ]
  },
  {
   "cell_type": "markdown",
   "metadata": {},
   "source": [
    "### O salário segue uma distribuição normal?"
   ]
  },
  {
   "cell_type": "code",
   "execution_count": 52,
   "metadata": {},
   "outputs": [
    {
     "data": {
      "text/plain": [
       "<matplotlib.axes._subplots.AxesSubplot at 0x10f86d8d0>"
      ]
     },
     "execution_count": 52,
     "metadata": {},
     "output_type": "execute_result"
    },
    {
     "data": {
      "image/png": "[encoded data removed]",
      "text/plain": [
       "<Figure size 432x288 with 1 Axes>"
      ]
     },
     "metadata": {
      "needs_background": "light"
     },
     "output_type": "display_data"
    }
   ],
   "source": [
    "df['TotalPay'].plot.hist()"
   ]
  },
  {
   "cell_type": "markdown",
   "metadata": {},
   "source": [
    "### Para os campos com valores nulos, como você pensaria em tratá-los?"
   ]
  },
  {
   "cell_type": "code",
   "execution_count": 47,
   "metadata": {},
   "outputs": [
    {
     "data": {
      "text/html": [
       "<div>\n",
       "<style scoped>\n",
       "    .dataframe tbody tr th:only-of-type {\n",
       "        vertical-align: middle;\n",
       "    }\n",
       "\n",
       "    .dataframe tbody tr th {\n",
       "        vertical-align: top;\n",
       "    }\n",
       "\n",
       "    .dataframe thead th {\n",
       "        text-align: right;\n",
       "    }\n",
       "</style>\n",
       "<table border=\"1\" class=\"dataframe\">\n",
       "  <thead>\n",
       "    <tr style=\"text-align: right;\">\n",
       "      <th></th>\n",
       "      <th>Id</th>\n",
       "      <th>BasePay</th>\n",
       "      <th>OvertimePay</th>\n",
       "      <th>OtherPay</th>\n",
       "      <th>Benefits</th>\n",
       "      <th>TotalPay</th>\n",
       "      <th>TotalPayBenefits</th>\n",
       "      <th>Year</th>\n",
       "      <th>Notes</th>\n",
       "      <th>Status</th>\n",
       "    </tr>\n",
       "  </thead>\n",
       "  <tbody>\n",
       "    <tr>\n",
       "      <th>count</th>\n",
       "      <td>148,654.00</td>\n",
       "      <td>148,045.00</td>\n",
       "      <td>148,650.00</td>\n",
       "      <td>148,650.00</td>\n",
       "      <td>112,491.00</td>\n",
       "      <td>148,654.00</td>\n",
       "      <td>148,654.00</td>\n",
       "      <td>148,654.00</td>\n",
       "      <td>0.00</td>\n",
       "      <td>0.00</td>\n",
       "    </tr>\n",
       "    <tr>\n",
       "      <th>mean</th>\n",
       "      <td>74,327.50</td>\n",
       "      <td>66,325.45</td>\n",
       "      <td>5,066.06</td>\n",
       "      <td>3,648.77</td>\n",
       "      <td>25,007.89</td>\n",
       "      <td>74,768.32</td>\n",
       "      <td>93,692.55</td>\n",
       "      <td>2,012.52</td>\n",
       "      <td>nan</td>\n",
       "      <td>nan</td>\n",
       "    </tr>\n",
       "    <tr>\n",
       "      <th>std</th>\n",
       "      <td>42,912.86</td>\n",
       "      <td>42,764.64</td>\n",
       "      <td>11,454.38</td>\n",
       "      <td>8,056.60</td>\n",
       "      <td>15,402.22</td>\n",
       "      <td>50,517.01</td>\n",
       "      <td>62,793.53</td>\n",
       "      <td>1.12</td>\n",
       "      <td>nan</td>\n",
       "      <td>nan</td>\n",
       "    </tr>\n",
       "    <tr>\n",
       "      <th>min</th>\n",
       "      <td>1.00</td>\n",
       "      <td>-166.01</td>\n",
       "      <td>-0.01</td>\n",
       "      <td>-7,058.59</td>\n",
       "      <td>-33.89</td>\n",
       "      <td>-618.13</td>\n",
       "      <td>-618.13</td>\n",
       "      <td>2,011.00</td>\n",
       "      <td>nan</td>\n",
       "      <td>nan</td>\n",
       "    </tr>\n",
       "    <tr>\n",
       "      <th>25%</th>\n",
       "      <td>37,164.25</td>\n",
       "      <td>33,588.20</td>\n",
       "      <td>0.00</td>\n",
       "      <td>0.00</td>\n",
       "      <td>11,535.40</td>\n",
       "      <td>36,169.00</td>\n",
       "      <td>44,065.65</td>\n",
       "      <td>2,012.00</td>\n",
       "      <td>nan</td>\n",
       "      <td>nan</td>\n",
       "    </tr>\n",
       "    <tr>\n",
       "      <th>50%</th>\n",
       "      <td>74,327.50</td>\n",
       "      <td>65,007.45</td>\n",
       "      <td>0.00</td>\n",
       "      <td>811.27</td>\n",
       "      <td>28,628.62</td>\n",
       "      <td>71,426.61</td>\n",
       "      <td>92,404.09</td>\n",
       "      <td>2,013.00</td>\n",
       "      <td>nan</td>\n",
       "      <td>nan</td>\n",
       "    </tr>\n",
       "    <tr>\n",
       "      <th>75%</th>\n",
       "      <td>111,490.75</td>\n",
       "      <td>94,691.05</td>\n",
       "      <td>4,658.18</td>\n",
       "      <td>4,236.07</td>\n",
       "      <td>35,566.85</td>\n",
       "      <td>105,839.13</td>\n",
       "      <td>132,876.45</td>\n",
       "      <td>2,014.00</td>\n",
       "      <td>nan</td>\n",
       "      <td>nan</td>\n",
       "    </tr>\n",
       "    <tr>\n",
       "      <th>max</th>\n",
       "      <td>148,654.00</td>\n",
       "      <td>319,275.01</td>\n",
       "      <td>245,131.88</td>\n",
       "      <td>400,184.25</td>\n",
       "      <td>96,570.66</td>\n",
       "      <td>567,595.43</td>\n",
       "      <td>567,595.43</td>\n",
       "      <td>2,014.00</td>\n",
       "      <td>nan</td>\n",
       "      <td>nan</td>\n",
       "    </tr>\n",
       "  </tbody>\n",
       "</table>\n",
       "</div>"
      ],
      "text/plain": [
       "              Id    BasePay  OvertimePay   OtherPay   Benefits   TotalPay  \\\n",
       "count 148,654.00 148,045.00   148,650.00 148,650.00 112,491.00 148,654.00   \n",
       "mean   74,327.50  66,325.45     5,066.06   3,648.77  25,007.89  74,768.32   \n",
       "std    42,912.86  42,764.64    11,454.38   8,056.60  15,402.22  50,517.01   \n",
       "min         1.00    -166.01        -0.01  -7,058.59     -33.89    -618.13   \n",
       "25%    37,164.25  33,588.20         0.00       0.00  11,535.40  36,169.00   \n",
       "50%    74,327.50  65,007.45         0.00     811.27  28,628.62  71,426.61   \n",
       "75%   111,490.75  94,691.05     4,658.18   4,236.07  35,566.85 105,839.13   \n",
       "max   148,654.00 319,275.01   245,131.88 400,184.25  96,570.66 567,595.43   \n",
       "\n",
       "       TotalPayBenefits       Year  Notes  Status  \n",
       "count        148,654.00 148,654.00   0.00    0.00  \n",
       "mean          93,692.55   2,012.52    nan     nan  \n",
       "std           62,793.53       1.12    nan     nan  \n",
       "min             -618.13   2,011.00    nan     nan  \n",
       "25%           44,065.65   2,012.00    nan     nan  \n",
       "50%           92,404.09   2,013.00    nan     nan  \n",
       "75%          132,876.45   2,014.00    nan     nan  \n",
       "max          567,595.43   2,014.00    nan     nan  "
      ]
     },
     "execution_count": 47,
     "metadata": {},
     "output_type": "execute_result"
    }
   ],
   "source": [
    "df.describe()"
   ]
  },
  {
   "cell_type": "markdown",
   "metadata": {},
   "source": [
    "### Você conseguiria criar uma nova variável com base nas informações existentes?"
   ]
  },
  {
   "cell_type": "code",
   "execution_count": 29,
   "metadata": {},
   "outputs": [
    {
     "data": {
      "text/html": [
       "<div>\n",
       "<style scoped>\n",
       "    .dataframe tbody tr th:only-of-type {\n",
       "        vertical-align: middle;\n",
       "    }\n",
       "\n",
       "    .dataframe tbody tr th {\n",
       "        vertical-align: top;\n",
       "    }\n",
       "\n",
       "    .dataframe thead th {\n",
       "        text-align: right;\n",
       "    }\n",
       "</style>\n",
       "<table border=\"1\" class=\"dataframe\">\n",
       "  <thead>\n",
       "    <tr style=\"text-align: right;\">\n",
       "      <th></th>\n",
       "      <th>Id</th>\n",
       "      <th>EmployeeName</th>\n",
       "      <th>JobTitle</th>\n",
       "      <th>BasePay</th>\n",
       "      <th>OvertimePay</th>\n",
       "      <th>OtherPay</th>\n",
       "      <th>Benefits</th>\n",
       "      <th>TotalPay</th>\n",
       "      <th>TotalPayBenefits</th>\n",
       "      <th>Year</th>\n",
       "      <th>Notes</th>\n",
       "      <th>Agency</th>\n",
       "      <th>Status</th>\n",
       "      <th>media_salarial</th>\n",
       "      <th>variacao</th>\n",
       "      <th>media</th>\n",
       "    </tr>\n",
       "  </thead>\n",
       "  <tbody>\n",
       "    <tr>\n",
       "      <th>0</th>\n",
       "      <td>1</td>\n",
       "      <td>NATHANIEL FORD</td>\n",
       "      <td>GENERAL MANAGER-METROPOLITAN TRANSIT AUTHORITY</td>\n",
       "      <td>167,411.18</td>\n",
       "      <td>0.00</td>\n",
       "      <td>400,184.25</td>\n",
       "      <td>nan</td>\n",
       "      <td>567,595.43</td>\n",
       "      <td>567,595.43</td>\n",
       "      <td>2011</td>\n",
       "      <td>nan</td>\n",
       "      <td>San Francisco</td>\n",
       "      <td>nan</td>\n",
       "      <td>74,768.32</td>\n",
       "      <td>74,768.32</td>\n",
       "      <td>74,768.32</td>\n",
       "    </tr>\n",
       "    <tr>\n",
       "      <th>1</th>\n",
       "      <td>2</td>\n",
       "      <td>GARY JIMENEZ</td>\n",
       "      <td>CAPTAIN III (POLICE DEPARTMENT)</td>\n",
       "      <td>155,966.02</td>\n",
       "      <td>245,131.88</td>\n",
       "      <td>137,811.38</td>\n",
       "      <td>nan</td>\n",
       "      <td>538,909.28</td>\n",
       "      <td>538,909.28</td>\n",
       "      <td>2011</td>\n",
       "      <td>nan</td>\n",
       "      <td>San Francisco</td>\n",
       "      <td>nan</td>\n",
       "      <td>74,768.32</td>\n",
       "      <td>74,768.32</td>\n",
       "      <td>74,768.32</td>\n",
       "    </tr>\n",
       "  </tbody>\n",
       "</table>\n",
       "</div>"
      ],
      "text/plain": [
       "   Id    EmployeeName                                        JobTitle  \\\n",
       "0   1  NATHANIEL FORD  GENERAL MANAGER-METROPOLITAN TRANSIT AUTHORITY   \n",
       "1   2    GARY JIMENEZ                 CAPTAIN III (POLICE DEPARTMENT)   \n",
       "\n",
       "     BasePay  OvertimePay   OtherPay  Benefits   TotalPay  TotalPayBenefits  \\\n",
       "0 167,411.18         0.00 400,184.25       nan 567,595.43        567,595.43   \n",
       "1 155,966.02   245,131.88 137,811.38       nan 538,909.28        538,909.28   \n",
       "\n",
       "   Year  Notes         Agency  Status  media_salarial  variacao     media  \n",
       "0  2011    nan  San Francisco     nan       74,768.32 74,768.32 74,768.32  \n",
       "1  2011    nan  San Francisco     nan       74,768.32 74,768.32 74,768.32  "
      ]
     },
     "execution_count": 29,
     "metadata": {},
     "output_type": "execute_result"
    }
   ],
   "source": [
    "df['media'] = df['TotalPay'].mean() ; df.head(2)"
   ]
  }
 ],
 "metadata": {
  "kernelspec": {
   "display_name": "Python 3",
   "language": "python",
   "name": "python3"
  },
  "language_info": {
   "codemirror_mode": {
    "name": "ipython",
    "version": 3
   },
   "file_extension": ".py",
   "mimetype": "text/x-python",
   "name": "python",
   "nbconvert_exporter": "python",
   "pygments_lexer": "ipython3",
   "version": "3.6.7"
  }
 },
 "nbformat": 4,
 "nbformat_minor": 2
}
