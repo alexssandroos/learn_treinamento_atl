{
 "cells": [
  {
   "cell_type": "code",
   "execution_count": 2,
   "metadata": {},
   "outputs": [],
   "source": [
    "import pandas as pd\n",
    "import numpy as np\n",
    "import matplotlib.pyplot as plt\n",
    "import seaborn as sns\n",
    "%matplotlib inline\n",
    "import re\n",
    "from sklearn.base import BaseEstimator, TransformerMixin\n",
    "from sklearn.ensemble import RandomForestClassifier\n",
    "from sklearn.model_selection import GridSearchCV\n",
    "from sklearn.metrics import classification_report\n",
    "from sklearn.metrics import roc_curve, roc_auc_score"
   ]
  },
  {
   "cell_type": "code",
   "execution_count": 3,
   "metadata": {},
   "outputs": [],
   "source": [
    "train = pd.read_csv('titanic_train.csv')\n",
    "test = pd.read_csv('titanic_test.csv')\n",
    "submission = pd.read_csv('gender_submission.csv')\n",
    "test = pd.merge(test, submission, on=['PassengerId', 'PassengerId'])\n",
    "test['IS_VALIDATION'] = 1\n",
    "train['IS_VALIDATION'] = 0\n",
    "all_data=pd.concat([train,test],sort=True,copy=True)\n",
    "t = all_data[all_data.IS_VALIDATION==1]"
   ]
  },
  {
   "cell_type": "code",
   "execution_count": 4,
   "metadata": {},
   "outputs": [],
   "source": [
    "all_data_aux =  pd.read_csv('Call_Data.csv', nrows=20000)\n",
    "#all_data_aux.head() \n",
    "t = all_data_aux[\n",
    "    (all_data_aux['Event Clearance Description']=='ASSISTANCE RENDERED') |\n",
    "    (all_data_aux['Event Clearance Description']=='UNABLE TO LOCATE INCIDENT OR COMPLAINANT') |\n",
    "    (all_data_aux['Event Clearance Description']=='ORAL WARNING GIVEN') |\n",
    "    (all_data_aux['Event Clearance Description']=='PROBLEM SOLVING PROJECT') |\n",
    "    (all_data_aux['Event Clearance Description']=='REPORT WRITTEN (NO ARREST)')\n",
    "]\n",
    "t.count()\n",
    "t.to_csv(path_or_buf='Call_Data_Clustering.csv')"
   ]
  },
  {
   "cell_type": "code",
   "execution_count": 5,
   "metadata": {
    "collapsed": true
   },
   "outputs": [],
   "source": [
    "t.to_csv(path_or_buf='test.csv')"
   ]
  },
  {
   "cell_type": "code",
   "execution_count": 6,
   "metadata": {},
   "outputs": [
    {
     "data": {
      "text/html": [
       "<div>\n",
       "<style scoped>\n",
       "    .dataframe tbody tr th:only-of-type {\n",
       "        vertical-align: middle;\n",
       "    }\n",
       "\n",
       "    .dataframe tbody tr th {\n",
       "        vertical-align: top;\n",
       "    }\n",
       "\n",
       "    .dataframe thead th {\n",
       "        text-align: right;\n",
       "    }\n",
       "</style>\n",
       "<table border=\"1\" class=\"dataframe\">\n",
       "  <thead>\n",
       "    <tr style=\"text-align: right;\">\n",
       "      <th></th>\n",
       "      <th>PassengerId</th>\n",
       "      <th>Survived</th>\n",
       "      <th>Pclass</th>\n",
       "      <th>Name</th>\n",
       "      <th>Sex</th>\n",
       "      <th>Age</th>\n",
       "      <th>SibSp</th>\n",
       "      <th>Parch</th>\n",
       "      <th>Ticket</th>\n",
       "      <th>Fare</th>\n",
       "      <th>Cabin</th>\n",
       "      <th>Embarked</th>\n",
       "      <th>IS_VALIDATION</th>\n",
       "    </tr>\n",
       "  </thead>\n",
       "  <tbody>\n",
       "    <tr>\n",
       "      <th>0</th>\n",
       "      <td>1</td>\n",
       "      <td>0</td>\n",
       "      <td>3</td>\n",
       "      <td>Braund, Mr. Owen Harris</td>\n",
       "      <td>male</td>\n",
       "      <td>22.0</td>\n",
       "      <td>1</td>\n",
       "      <td>0</td>\n",
       "      <td>A/5 21171</td>\n",
       "      <td>7.2500</td>\n",
       "      <td>NaN</td>\n",
       "      <td>S</td>\n",
       "      <td>0</td>\n",
       "    </tr>\n",
       "    <tr>\n",
       "      <th>1</th>\n",
       "      <td>2</td>\n",
       "      <td>1</td>\n",
       "      <td>1</td>\n",
       "      <td>Cumings, Mrs. John Bradley (Florence Briggs Th...</td>\n",
       "      <td>female</td>\n",
       "      <td>38.0</td>\n",
       "      <td>1</td>\n",
       "      <td>0</td>\n",
       "      <td>PC 17599</td>\n",
       "      <td>71.2833</td>\n",
       "      <td>C85</td>\n",
       "      <td>C</td>\n",
       "      <td>0</td>\n",
       "    </tr>\n",
       "    <tr>\n",
       "      <th>2</th>\n",
       "      <td>3</td>\n",
       "      <td>1</td>\n",
       "      <td>3</td>\n",
       "      <td>Heikkinen, Miss. Laina</td>\n",
       "      <td>female</td>\n",
       "      <td>26.0</td>\n",
       "      <td>0</td>\n",
       "      <td>0</td>\n",
       "      <td>STON/O2. 3101282</td>\n",
       "      <td>7.9250</td>\n",
       "      <td>NaN</td>\n",
       "      <td>S</td>\n",
       "      <td>0</td>\n",
       "    </tr>\n",
       "    <tr>\n",
       "      <th>3</th>\n",
       "      <td>4</td>\n",
       "      <td>1</td>\n",
       "      <td>1</td>\n",
       "      <td>Futrelle, Mrs. Jacques Heath (Lily May Peel)</td>\n",
       "      <td>female</td>\n",
       "      <td>35.0</td>\n",
       "      <td>1</td>\n",
       "      <td>0</td>\n",
       "      <td>113803</td>\n",
       "      <td>53.1000</td>\n",
       "      <td>C123</td>\n",
       "      <td>S</td>\n",
       "      <td>0</td>\n",
       "    </tr>\n",
       "    <tr>\n",
       "      <th>4</th>\n",
       "      <td>5</td>\n",
       "      <td>0</td>\n",
       "      <td>3</td>\n",
       "      <td>Allen, Mr. William Henry</td>\n",
       "      <td>male</td>\n",
       "      <td>35.0</td>\n",
       "      <td>0</td>\n",
       "      <td>0</td>\n",
       "      <td>373450</td>\n",
       "      <td>8.0500</td>\n",
       "      <td>NaN</td>\n",
       "      <td>S</td>\n",
       "      <td>0</td>\n",
       "    </tr>\n",
       "  </tbody>\n",
       "</table>\n",
       "</div>"
      ],
      "text/plain": [
       "   PassengerId  Survived  Pclass  \\\n",
       "0            1         0       3   \n",
       "1            2         1       1   \n",
       "2            3         1       3   \n",
       "3            4         1       1   \n",
       "4            5         0       3   \n",
       "\n",
       "                                                Name     Sex   Age  SibSp  \\\n",
       "0                            Braund, Mr. Owen Harris    male  22.0      1   \n",
       "1  Cumings, Mrs. John Bradley (Florence Briggs Th...  female  38.0      1   \n",
       "2                             Heikkinen, Miss. Laina  female  26.0      0   \n",
       "3       Futrelle, Mrs. Jacques Heath (Lily May Peel)  female  35.0      1   \n",
       "4                           Allen, Mr. William Henry    male  35.0      0   \n",
       "\n",
       "   Parch            Ticket     Fare Cabin Embarked  IS_VALIDATION  \n",
       "0      0         A/5 21171   7.2500   NaN        S              0  \n",
       "1      0          PC 17599  71.2833   C85        C              0  \n",
       "2      0  STON/O2. 3101282   7.9250   NaN        S              0  \n",
       "3      0            113803  53.1000  C123        S              0  \n",
       "4      0            373450   8.0500   NaN        S              0  "
      ]
     },
     "execution_count": 6,
     "metadata": {},
     "output_type": "execute_result"
    }
   ],
   "source": [
    "train.head()"
   ]
  },
  {
   "cell_type": "code",
   "execution_count": 7,
   "metadata": {
    "collapsed": true
   },
   "outputs": [],
   "source": [
    "train['Ticket'] = train['Ticket'].apply(lambda x: len(x))"
   ]
  },
  {
   "cell_type": "code",
   "execution_count": 8,
   "metadata": {},
   "outputs": [
    {
     "data": {
      "text/html": [
       "<div>\n",
       "<style scoped>\n",
       "    .dataframe tbody tr th:only-of-type {\n",
       "        vertical-align: middle;\n",
       "    }\n",
       "\n",
       "    .dataframe tbody tr th {\n",
       "        vertical-align: top;\n",
       "    }\n",
       "\n",
       "    .dataframe thead th {\n",
       "        text-align: right;\n",
       "    }\n",
       "</style>\n",
       "<table border=\"1\" class=\"dataframe\">\n",
       "  <thead>\n",
       "    <tr style=\"text-align: right;\">\n",
       "      <th></th>\n",
       "      <th>Ticket</th>\n",
       "      <th>Pclass</th>\n",
       "      <th>Fare</th>\n",
       "    </tr>\n",
       "  </thead>\n",
       "  <tbody>\n",
       "    <tr>\n",
       "      <th>0</th>\n",
       "      <td>3</td>\n",
       "      <td>1</td>\n",
       "      <td>14.849242</td>\n",
       "    </tr>\n",
       "    <tr>\n",
       "      <th>1</th>\n",
       "      <td>4</td>\n",
       "      <td>1</td>\n",
       "      <td>NaN</td>\n",
       "    </tr>\n",
       "    <tr>\n",
       "      <th>2</th>\n",
       "      <td>4</td>\n",
       "      <td>2</td>\n",
       "      <td>0.000000</td>\n",
       "    </tr>\n",
       "    <tr>\n",
       "      <th>3</th>\n",
       "      <td>4</td>\n",
       "      <td>3</td>\n",
       "      <td>13.116410</td>\n",
       "    </tr>\n",
       "    <tr>\n",
       "      <th>4</th>\n",
       "      <td>5</td>\n",
       "      <td>1</td>\n",
       "      <td>59.847589</td>\n",
       "    </tr>\n",
       "    <tr>\n",
       "      <th>5</th>\n",
       "      <td>5</td>\n",
       "      <td>2</td>\n",
       "      <td>7.774127</td>\n",
       "    </tr>\n",
       "    <tr>\n",
       "      <th>6</th>\n",
       "      <td>5</td>\n",
       "      <td>3</td>\n",
       "      <td>4.606832</td>\n",
       "    </tr>\n",
       "    <tr>\n",
       "      <th>7</th>\n",
       "      <td>6</td>\n",
       "      <td>1</td>\n",
       "      <td>40.803650</td>\n",
       "    </tr>\n",
       "    <tr>\n",
       "      <th>8</th>\n",
       "      <td>6</td>\n",
       "      <td>2</td>\n",
       "      <td>11.308857</td>\n",
       "    </tr>\n",
       "    <tr>\n",
       "      <th>9</th>\n",
       "      <td>6</td>\n",
       "      <td>3</td>\n",
       "      <td>6.977589</td>\n",
       "    </tr>\n",
       "    <tr>\n",
       "      <th>10</th>\n",
       "      <td>7</td>\n",
       "      <td>2</td>\n",
       "      <td>NaN</td>\n",
       "    </tr>\n",
       "    <tr>\n",
       "      <th>11</th>\n",
       "      <td>7</td>\n",
       "      <td>3</td>\n",
       "      <td>17.147303</td>\n",
       "    </tr>\n",
       "    <tr>\n",
       "      <th>12</th>\n",
       "      <td>8</td>\n",
       "      <td>1</td>\n",
       "      <td>114.189525</td>\n",
       "    </tr>\n",
       "    <tr>\n",
       "      <th>13</th>\n",
       "      <td>8</td>\n",
       "      <td>3</td>\n",
       "      <td>31.258396</td>\n",
       "    </tr>\n",
       "    <tr>\n",
       "      <th>14</th>\n",
       "      <td>9</td>\n",
       "      <td>1</td>\n",
       "      <td>0.000000</td>\n",
       "    </tr>\n",
       "    <tr>\n",
       "      <th>15</th>\n",
       "      <td>9</td>\n",
       "      <td>2</td>\n",
       "      <td>7.794229</td>\n",
       "    </tr>\n",
       "    <tr>\n",
       "      <th>16</th>\n",
       "      <td>9</td>\n",
       "      <td>3</td>\n",
       "      <td>6.417591</td>\n",
       "    </tr>\n",
       "    <tr>\n",
       "      <th>17</th>\n",
       "      <td>10</td>\n",
       "      <td>1</td>\n",
       "      <td>NaN</td>\n",
       "    </tr>\n",
       "    <tr>\n",
       "      <th>18</th>\n",
       "      <td>10</td>\n",
       "      <td>2</td>\n",
       "      <td>9.451129</td>\n",
       "    </tr>\n",
       "    <tr>\n",
       "      <th>19</th>\n",
       "      <td>10</td>\n",
       "      <td>3</td>\n",
       "      <td>11.171791</td>\n",
       "    </tr>\n",
       "    <tr>\n",
       "      <th>20</th>\n",
       "      <td>11</td>\n",
       "      <td>1</td>\n",
       "      <td>NaN</td>\n",
       "    </tr>\n",
       "    <tr>\n",
       "      <th>21</th>\n",
       "      <td>11</td>\n",
       "      <td>2</td>\n",
       "      <td>5.780362</td>\n",
       "    </tr>\n",
       "    <tr>\n",
       "      <th>22</th>\n",
       "      <td>12</td>\n",
       "      <td>2</td>\n",
       "      <td>27.497841</td>\n",
       "    </tr>\n",
       "    <tr>\n",
       "      <th>23</th>\n",
       "      <td>13</td>\n",
       "      <td>2</td>\n",
       "      <td>13.345962</td>\n",
       "    </tr>\n",
       "    <tr>\n",
       "      <th>24</th>\n",
       "      <td>13</td>\n",
       "      <td>3</td>\n",
       "      <td>NaN</td>\n",
       "    </tr>\n",
       "    <tr>\n",
       "      <th>25</th>\n",
       "      <td>15</td>\n",
       "      <td>2</td>\n",
       "      <td>13.401743</td>\n",
       "    </tr>\n",
       "    <tr>\n",
       "      <th>26</th>\n",
       "      <td>15</td>\n",
       "      <td>3</td>\n",
       "      <td>0.408248</td>\n",
       "    </tr>\n",
       "    <tr>\n",
       "      <th>27</th>\n",
       "      <td>16</td>\n",
       "      <td>2</td>\n",
       "      <td>NaN</td>\n",
       "    </tr>\n",
       "    <tr>\n",
       "      <th>28</th>\n",
       "      <td>16</td>\n",
       "      <td>3</td>\n",
       "      <td>3.426976</td>\n",
       "    </tr>\n",
       "    <tr>\n",
       "      <th>29</th>\n",
       "      <td>17</td>\n",
       "      <td>3</td>\n",
       "      <td>0.353126</td>\n",
       "    </tr>\n",
       "    <tr>\n",
       "      <th>30</th>\n",
       "      <td>18</td>\n",
       "      <td>3</td>\n",
       "      <td>0.000000</td>\n",
       "    </tr>\n",
       "  </tbody>\n",
       "</table>\n",
       "</div>"
      ],
      "text/plain": [
       "    Ticket  Pclass        Fare\n",
       "0        3       1   14.849242\n",
       "1        4       1         NaN\n",
       "2        4       2    0.000000\n",
       "3        4       3   13.116410\n",
       "4        5       1   59.847589\n",
       "5        5       2    7.774127\n",
       "6        5       3    4.606832\n",
       "7        6       1   40.803650\n",
       "8        6       2   11.308857\n",
       "9        6       3    6.977589\n",
       "10       7       2         NaN\n",
       "11       7       3   17.147303\n",
       "12       8       1  114.189525\n",
       "13       8       3   31.258396\n",
       "14       9       1    0.000000\n",
       "15       9       2    7.794229\n",
       "16       9       3    6.417591\n",
       "17      10       1         NaN\n",
       "18      10       2    9.451129\n",
       "19      10       3   11.171791\n",
       "20      11       1         NaN\n",
       "21      11       2    5.780362\n",
       "22      12       2   27.497841\n",
       "23      13       2   13.345962\n",
       "24      13       3         NaN\n",
       "25      15       2   13.401743\n",
       "26      15       3    0.408248\n",
       "27      16       2         NaN\n",
       "28      16       3    3.426976\n",
       "29      17       3    0.353126\n",
       "30      18       3    0.000000"
      ]
     },
     "execution_count": 8,
     "metadata": {},
     "output_type": "execute_result"
    }
   ],
   "source": [
    "#train[train.Ticket == 6].describe()\n",
    "#train[train.Ticket == 3].describe()\n",
    "#train.groupby(['Ticket', 'Pclass'], as_index=False).mean()\n",
    "train = pd.read_csv('titanic_train.csv')\n",
    "train['Ticket'] = train['Ticket'].apply(lambda x: len(x))\n",
    "#d = train.groupby(['Ticket', 'Pclass'], as_index=False).std()\n",
    "aux = train.groupby(['Ticket', 'Pclass']).agg('std')['Fare']\n",
    "aux = aux.to_frame().reset_index()\n",
    "#aux = train.groupby(['Ticket', 'Pclass'])['Fare'].std()\n",
    "#print(aux.head(100))\n",
    "#a = aux[[\"Ticket\", \"Pclass\"]].get_group(\"Fare\")\n",
    "aux.head(100)\n",
    "#value = aux[(aux.Ticket == 6) & (aux.Pclass==3)]['Fare']\n",
    "#print(value)"
   ]
  },
  {
   "cell_type": "code",
   "execution_count": 9,
   "metadata": {},
   "outputs": [
    {
     "data": {
      "text/html": [
       "<div>\n",
       "<style scoped>\n",
       "    .dataframe tbody tr th:only-of-type {\n",
       "        vertical-align: middle;\n",
       "    }\n",
       "\n",
       "    .dataframe tbody tr th {\n",
       "        vertical-align: top;\n",
       "    }\n",
       "\n",
       "    .dataframe thead th {\n",
       "        text-align: right;\n",
       "    }\n",
       "</style>\n",
       "<table border=\"1\" class=\"dataframe\">\n",
       "  <thead>\n",
       "    <tr style=\"text-align: right;\">\n",
       "      <th></th>\n",
       "      <th>Ticket</th>\n",
       "      <th>Pclass</th>\n",
       "      <th>Fare</th>\n",
       "    </tr>\n",
       "  </thead>\n",
       "  <tbody>\n",
       "    <tr>\n",
       "      <th>9</th>\n",
       "      <td>6</td>\n",
       "      <td>3</td>\n",
       "      <td>6.977589</td>\n",
       "    </tr>\n",
       "  </tbody>\n",
       "</table>\n",
       "</div>"
      ],
      "text/plain": [
       "   Ticket  Pclass      Fare\n",
       "9       6       3  6.977589"
      ]
     },
     "execution_count": 9,
     "metadata": {},
     "output_type": "execute_result"
    }
   ],
   "source": [
    "aux[(aux.Ticket == 6) & (aux.Pclass==3)]"
   ]
  },
  {
   "cell_type": "code",
   "execution_count": 10,
   "metadata": {},
   "outputs": [],
   "source": [
    "#sns.set_style('whitegrid')\n",
    "#sns.countplot(x='Survived',hue='Ticket',data=train,palette='RdBu_r')"
   ]
  },
  {
   "cell_type": "code",
   "execution_count": 11,
   "metadata": {},
   "outputs": [],
   "source": [
    "class MyTransformer():\n",
    "    '''A template for a custom transformer.'''\n",
    "\n",
    "    def __init__(self):\n",
    "        pass\n",
    "\n",
    "    def fit(self, X, y=None):\n",
    "        return self\n",
    "    \n",
    "    def _one_hot_encoding(self, train):\n",
    "        sex = pd.get_dummies(train['Sex'],prefix='sex', drop_first=True)\n",
    "        embark = pd.get_dummies(train['Embarked'],prefix='embarked', drop_first=True)\n",
    "        pclass = pd.get_dummies(train['Pclass'],prefix='class', drop_first=True)\n",
    "        ticket = pd.get_dummies(train['Ticket'], prefix='ticket', drop_first=True)\n",
    "        cabin = pd.get_dummies(train['Cabin'], prefix='cabin', drop_first=True)\n",
    "        prefix_name = pd.get_dummies(train['Name'], prefix='prefix_name', drop_first=True)\n",
    "        return pd.concat([train, sex, embark, pclass, ticket, cabin, prefix_name],axis=1)\n",
    "\n",
    "    def _impute_age(self, cols):\n",
    "        age = cols[0]\n",
    "        pclass = cols[1]\n",
    "\n",
    "        if pd.isnull(age):\n",
    "\n",
    "            if pclass == 1:\n",
    "                return 37\n",
    "\n",
    "            elif pclass == 2:\n",
    "                return 29\n",
    "\n",
    "            else:\n",
    "                return 24\n",
    "        else:\n",
    "            return age\n",
    "       \n",
    "    def _impute_values(self, train): \n",
    "        train['Age'] = train[['Age','Pclass']].apply(self._impute_age,axis=1)\n",
    "        train['Cabin'] = train['Cabin'].apply(lambda x: 0 if x is None else 1)\n",
    "        train['Ticket'] = train['Ticket'].apply(lambda x: len(x))\n",
    "        train['Ticket'] = train['Ticket'].apply(lambda x: 1 if x < 6 else 0)\n",
    "        #aux = train.groupby(['Ticket', 'Pclass']).agg('std')['Fare']\n",
    "        #aux = aux.to_frame().reset_index()\n",
    "        #train['Ticket'] = train[['Ticket','Pclass']].apply(self._set_ticket, args=(aux,),axis=1)\n",
    "        train['Name'] = train[['Name']].apply(self._impute_name,axis=1)\n",
    "        \n",
    "    def _set_ticket(self, cols, aux):\n",
    "        ticket = cols[0]\n",
    "        pclass = cols[1]\n",
    "        value = aux[(aux.Ticket == ticket) & (aux.Pclass==pclass)]['Fare'].values[0]\n",
    "        print(value)\n",
    "        if value is None:\n",
    "            value = 0\n",
    "        return value\n",
    "    \n",
    "    def _impute_name(self, cols):\n",
    "        pattern = re.search(\"\\\\,(.+?)\\\\.\", cols[0])\n",
    "        found='Other'\n",
    "        if pattern:\n",
    "            found = pattern.group(1)\n",
    "        return found  \n",
    "\n",
    "    def transform(self, train):\n",
    "        cols = ['Sex','Embarked','Name','Cabin','Ticket', 'PassengerId', 'Pclass']\n",
    "        self._impute_values(train)\n",
    "        train.dropna(inplace=True)\n",
    "        train = self._one_hot_encoding(train)   \n",
    "        train.drop(cols,axis=1,inplace=True)\n",
    "        return train"
   ]
  },
  {
   "cell_type": "code",
   "execution_count": 12,
   "metadata": {},
   "outputs": [],
   "source": [
    "from sklearn.pipeline import Pipeline\n",
    "pipeline = Pipeline([\n",
    "    ('test', MyTransformer()),\n",
    "])\n",
    "pipe = pipeline.fit(all_data)\n",
    "data_prepared = pipe.transform(all_data)\n",
    "train = data_prepared[data_prepared.IS_VALIDATION==0]\n",
    "validation = data_prepared[data_prepared.IS_VALIDATION==1]"
   ]
  },
  {
   "cell_type": "code",
   "execution_count": 13,
   "metadata": {},
   "outputs": [],
   "source": [
    "#train['Ticket'].isna().sum()\n",
    "#train['Ticket'].fillna(train['Age'].mean())\n",
    "#train['Ticket'].isnull().any()"
   ]
  },
  {
   "cell_type": "code",
   "execution_count": 14,
   "metadata": {},
   "outputs": [
    {
     "data": {
      "text/plain": [
       "Age                          889\n",
       "Fare                         889\n",
       "IS_VALIDATION                889\n",
       "Parch                        889\n",
       "SibSp                        889\n",
       "Survived                     889\n",
       "sex_male                     889\n",
       "embarked_Q                   889\n",
       "embarked_S                   889\n",
       "class_2                      889\n",
       "class_3                      889\n",
       "ticket_1                     889\n",
       "prefix_name_ Col             889\n",
       "prefix_name_ Don             889\n",
       "prefix_name_ Dona            889\n",
       "prefix_name_ Dr              889\n",
       "prefix_name_ Jonkheer        889\n",
       "prefix_name_ Lady            889\n",
       "prefix_name_ Major           889\n",
       "prefix_name_ Master          889\n",
       "prefix_name_ Miss            889\n",
       "prefix_name_ Mlle            889\n",
       "prefix_name_ Mme             889\n",
       "prefix_name_ Mr              889\n",
       "prefix_name_ Mrs             889\n",
       "prefix_name_ Ms              889\n",
       "prefix_name_ Rev             889\n",
       "prefix_name_ Sir             889\n",
       "prefix_name_ the Countess    889\n",
       "dtype: int64"
      ]
     },
     "execution_count": 14,
     "metadata": {},
     "output_type": "execute_result"
    }
   ],
   "source": [
    "pd.set_option('max_columns',100)\n",
    "train.count()"
   ]
  },
  {
   "cell_type": "code",
   "execution_count": 15,
   "metadata": {
    "collapsed": true
   },
   "outputs": [],
   "source": [
    "from sklearn.model_selection import train_test_split"
   ]
  },
  {
   "cell_type": "code",
   "execution_count": 16,
   "metadata": {},
   "outputs": [],
   "source": [
    "cols_to_drop = ['Survived','IS_VALIDATION']\n",
    "X_train, X_test, y_train, y_test = train_test_split(train.drop(cols_to_drop,axis=1), \n",
    "                                                    train['Survived'], test_size=0.30, \n",
    "                                                    random_state=101)"
   ]
  },
  {
   "cell_type": "markdown",
   "metadata": {},
   "source": [
    "## Training and Predicting"
   ]
  },
  {
   "cell_type": "code",
   "execution_count": 38,
   "metadata": {},
   "outputs": [],
   "source": [
    "from sklearn.neighbors import KNeighborsClassifier\n",
    "\n",
    "k_range = list(range(3, 5))\n",
    "param_grid = dict(n_neighbors = k_range)\n",
    "\n",
    "mod_knn = KNeighborsClassifier()\n",
    "grid_knn = GridSearchCV(estimator = mod_knn, param_grid = param_grid, cv = 10, scoring = 'accuracy') \n",
    "\n",
    "grid_knn.fit(X_train, y_train)\n",
    "knn = grid_knn.best_estimator_"
   ]
  },
  {
   "cell_type": "code",
   "execution_count": 39,
   "metadata": {},
   "outputs": [
    {
     "name": "stdout",
     "output_type": "stream",
     "text": [
      "             precision    recall  f1-score   support\n",
      "\n",
      "          0       0.77      0.75      0.76       163\n",
      "          1       0.62      0.64      0.63       104\n",
      "\n",
      "avg / total       0.71      0.71      0.71       267\n",
      "\n"
     ]
    }
   ],
   "source": [
    "predictions = knn.predict(X_test)\n",
    "print(classification_report(y_test,predictions))\n",
    "#print('AUC: %.3f' % auc)"
   ]
  },
  {
   "cell_type": "code",
   "execution_count": 17,
   "metadata": {
    "collapsed": true
   },
   "outputs": [],
   "source": [
    "from sklearn.linear_model import LogisticRegression"
   ]
  },
  {
   "cell_type": "code",
   "execution_count": 18,
   "metadata": {},
   "outputs": [
    {
     "name": "stdout",
     "output_type": "stream",
     "text": [
      "AUC: 0.882\n"
     ]
    }
   ],
   "source": [
    "parameters = {'C':[1.0, 10.0, 50.0, 100,1000]}\n",
    "logmodel = LogisticRegression()\n",
    "clf = GridSearchCV(logmodel, parameters, cv=10, scoring='roc_auc')\n",
    "clf.fit(X_train, y_train)\n",
    "regr_log = clf.best_estimator_\n",
    "#regr_log = LogisticRegression()\n",
    "#regr_log.fit(X_train, y_train)\n",
    "predictions = regr_log.predict(X_test)\n",
    "probs = regr_log.predict_proba(X_test)\n",
    "probs = probs[:, 1]\n",
    "auc = roc_auc_score(y_test, probs)\n",
    "print('AUC: %.3f' % auc)"
   ]
  },
  {
   "cell_type": "code",
   "execution_count": 19,
   "metadata": {},
   "outputs": [
    {
     "name": "stdout",
     "output_type": "stream",
     "text": [
      "             precision    recall  f1-score   support\n",
      "\n",
      "          0       0.84      0.94      0.89       163\n",
      "          1       0.89      0.72      0.80       104\n",
      "\n",
      "avg / total       0.86      0.86      0.85       267\n",
      "\n"
     ]
    }
   ],
   "source": [
    "print(classification_report(y_test,predictions))"
   ]
  },
  {
   "cell_type": "code",
   "execution_count": 23,
   "metadata": {},
   "outputs": [],
   "source": [
    "#regr = RandomForestClassifier(random_state=101, criterion='entropy', max_depth=10)\n",
    "#regr.fit(X_train,y_train)\n",
    "\n",
    "parameters = {'min_samples_leaf':[2,5,7], 'min_samples_split':[2,5,7], 'max_depth':[2,6,10], 'random_state': [10]}\n",
    "dtr = RandomForestClassifier()\n",
    "clf = GridSearchCV(dtr, parameters, cv=10, scoring='roc_auc')\n",
    "regr = clf.fit(X_train, y_train)\n",
    "regr = clf.best_estimator_"
   ]
  },
  {
   "cell_type": "code",
   "execution_count": 24,
   "metadata": {},
   "outputs": [
    {
     "name": "stdout",
     "output_type": "stream",
     "text": [
      "[0.13677158 0.17516877 0.02536718 0.02688175 0.15479542 0.0108864\n",
      " 0.02805565 0.01988886 0.07258042 0.03003314 0.         0.\n",
      " 0.         0.00070416 0.         0.         0.         0.01464365\n",
      " 0.07346537 0.00122116 0.         0.16022708 0.06682615 0.\n",
      " 0.00248326 0.         0.        ]\n"
     ]
    }
   ],
   "source": [
    "print(regr.feature_importances_)"
   ]
  },
  {
   "cell_type": "code",
   "execution_count": 25,
   "metadata": {
    "collapsed": true
   },
   "outputs": [],
   "source": [
    "predictions = regr.predict(X_test)"
   ]
  },
  {
   "cell_type": "code",
   "execution_count": 26,
   "metadata": {},
   "outputs": [
    {
     "name": "stdout",
     "output_type": "stream",
     "text": [
      "AUC: 0.873\n",
      "             precision    recall  f1-score   support\n",
      "\n",
      "          0       0.84      0.91      0.88       163\n",
      "          1       0.84      0.73      0.78       104\n",
      "\n",
      "avg / total       0.84      0.84      0.84       267\n",
      "\n"
     ]
    }
   ],
   "source": [
    "probs = regr.predict_proba(X_test)\n",
    "probs = probs[:, 1]\n",
    "auc = roc_auc_score(y_test, probs)\n",
    "print('AUC: %.3f' % auc)\n",
    "print(classification_report(y_test,predictions))"
   ]
  },
  {
   "cell_type": "markdown",
   "metadata": {},
   "source": [
    "Let's move on to evaluate our model!"
   ]
  },
  {
   "cell_type": "markdown",
   "metadata": {},
   "source": [
    "## Evaluation"
   ]
  },
  {
   "cell_type": "markdown",
   "metadata": {},
   "source": [
    "We can check precision,recall,f1-score using classification report!"
   ]
  },
  {
   "cell_type": "code",
   "execution_count": 27,
   "metadata": {},
   "outputs": [
    {
     "data": {
      "text/plain": [
       "Index(['Age', 'Fare', 'IS_VALIDATION', 'Parch', 'SibSp', 'sex_male',\n",
       "       'embarked_Q', 'embarked_S', 'class_2', 'class_3', 'ticket_1',\n",
       "       'prefix_name_ Col', 'prefix_name_ Don', 'prefix_name_ Dona',\n",
       "       'prefix_name_ Dr', 'prefix_name_ Jonkheer', 'prefix_name_ Lady',\n",
       "       'prefix_name_ Major', 'prefix_name_ Master', 'prefix_name_ Miss',\n",
       "       'prefix_name_ Mlle', 'prefix_name_ Mme', 'prefix_name_ Mr',\n",
       "       'prefix_name_ Mrs', 'prefix_name_ Ms', 'prefix_name_ Rev',\n",
       "       'prefix_name_ Sir', 'prefix_name_ the Countess'],\n",
       "      dtype='object')"
      ]
     },
     "execution_count": 27,
     "metadata": {},
     "output_type": "execute_result"
    }
   ],
   "source": [
    "train.drop('Survived',axis=1).columns"
   ]
  },
  {
   "cell_type": "code",
   "execution_count": 28,
   "metadata": {
    "collapsed": true
   },
   "outputs": [],
   "source": [
    "from sklearn.metrics import confusion_matrix"
   ]
  },
  {
   "cell_type": "code",
   "execution_count": 29,
   "metadata": {},
   "outputs": [
    {
     "data": {
      "text/plain": [
       "array([[149,  14],\n",
       "       [ 28,  76]], dtype=int64)"
      ]
     },
     "execution_count": 29,
     "metadata": {},
     "output_type": "execute_result"
    }
   ],
   "source": [
    "confusion_matrix(y_test, predictions, labels=[0,1])"
   ]
  },
  {
   "cell_type": "code",
   "execution_count": 30,
   "metadata": {},
   "outputs": [
    {
     "name": "stdout",
     "output_type": "stream",
     "text": [
      "[-0.02500819  0.00608964 -0.25981567 -0.4541372  -0.96565789  0.10358915\n",
      " -0.0969101  -0.54595169 -1.53991341  0.69764067  0.31793828 -0.41768879\n",
      "  0.         -0.35076937 -0.51314723  0.201589    0.07127148  1.66155694\n",
      "  0.5586752   0.25907875  0.         -1.11757437  1.13691794  0.28641269\n",
      " -0.84498078  0.48029748  0.16044337]\n",
      "{'prefix_name_ Sir': 0.4802974849513082, 'sex_male': -0.9656578942385765, 'Parch': -0.2598156694215192, 'prefix_name_ Mrs': 1.1369179425349234, 'embarked_S': -0.0969100976124486, 'SibSp': -0.45413719914088746, 'prefix_name_ Master': 1.661556936899081, 'prefix_name_ Jonkheer': -0.5131472328722951, 'prefix_name_ Lady': 0.2015889997662359, 'prefix_name_ Miss': 0.5586751958404883, 'prefix_name_ Don': -0.4176887921974983, 'class_2': -0.5459516935411821, 'Fare': 0.006089637011921782, 'class_3': -1.5399134067944358, 'prefix_name_ Ms': 0.2864126882600973, 'prefix_name_ Col': 0.31793828430017024, 'prefix_name_ Mr': -1.1175743735530472, 'prefix_name_ Dona': 0.0, 'prefix_name_ Major': 0.07127147522003109, 'prefix_name_ the Countess': 0.16044337227480487, 'prefix_name_ Dr': -0.3507693734358795, 'prefix_name_ Mme': 0.0, 'embarked_Q': 0.10358914859912213, 'ticket_1': 0.6976406651140921, 'prefix_name_ Rev': -0.84498078162634, 'Age': -0.025008191135567643, 'prefix_name_ Mlle': 0.259078752931233}\n"
     ]
    }
   ],
   "source": [
    "a = regr_log.coef_[0,:]\n",
    "print(a)\n",
    "cols = train.drop(cols_to_drop,axis=1).columns\n",
    "#print(cols.reindex())\n",
    "coef_dict = {}\n",
    "coefficients = pd.DataFrame({\"Feature\":cols,\"Coefficients\":a})\n",
    "for coef, feat in zip(regr_log.coef_[0,:],cols):\n",
    "    coef_dict[feat] = coef\n",
    "print(coef_dict)"
   ]
  },
  {
   "cell_type": "code",
   "execution_count": 31,
   "metadata": {},
   "outputs": [
    {
     "data": {
      "text/html": [
       "<div>\n",
       "<style scoped>\n",
       "    .dataframe tbody tr th:only-of-type {\n",
       "        vertical-align: middle;\n",
       "    }\n",
       "\n",
       "    .dataframe tbody tr th {\n",
       "        vertical-align: top;\n",
       "    }\n",
       "\n",
       "    .dataframe thead th {\n",
       "        text-align: right;\n",
       "    }\n",
       "</style>\n",
       "<table border=\"1\" class=\"dataframe\">\n",
       "  <thead>\n",
       "    <tr style=\"text-align: right;\">\n",
       "      <th></th>\n",
       "      <th>Age</th>\n",
       "      <th>Fare</th>\n",
       "      <th>IS_VALIDATION</th>\n",
       "      <th>Parch</th>\n",
       "      <th>SibSp</th>\n",
       "      <th>Survived</th>\n",
       "      <th>sex_male</th>\n",
       "      <th>embarked_Q</th>\n",
       "      <th>embarked_S</th>\n",
       "      <th>class_2</th>\n",
       "      <th>class_3</th>\n",
       "      <th>ticket_1</th>\n",
       "      <th>prefix_name_ Col</th>\n",
       "      <th>prefix_name_ Don</th>\n",
       "      <th>prefix_name_ Dona</th>\n",
       "      <th>prefix_name_ Dr</th>\n",
       "      <th>prefix_name_ Jonkheer</th>\n",
       "      <th>prefix_name_ Lady</th>\n",
       "      <th>prefix_name_ Major</th>\n",
       "      <th>prefix_name_ Master</th>\n",
       "      <th>prefix_name_ Miss</th>\n",
       "      <th>prefix_name_ Mlle</th>\n",
       "      <th>prefix_name_ Mme</th>\n",
       "      <th>prefix_name_ Mr</th>\n",
       "      <th>prefix_name_ Mrs</th>\n",
       "      <th>prefix_name_ Ms</th>\n",
       "      <th>prefix_name_ Rev</th>\n",
       "      <th>prefix_name_ Sir</th>\n",
       "      <th>prefix_name_ the Countess</th>\n",
       "    </tr>\n",
       "  </thead>\n",
       "  <tbody>\n",
       "    <tr>\n",
       "      <th>0</th>\n",
       "      <td>22.0</td>\n",
       "      <td>7.2500</td>\n",
       "      <td>0</td>\n",
       "      <td>0</td>\n",
       "      <td>1</td>\n",
       "      <td>0</td>\n",
       "      <td>1</td>\n",
       "      <td>0</td>\n",
       "      <td>1</td>\n",
       "      <td>0</td>\n",
       "      <td>1</td>\n",
       "      <td>0</td>\n",
       "      <td>0</td>\n",
       "      <td>0</td>\n",
       "      <td>0</td>\n",
       "      <td>0</td>\n",
       "      <td>0</td>\n",
       "      <td>0</td>\n",
       "      <td>0</td>\n",
       "      <td>0</td>\n",
       "      <td>0</td>\n",
       "      <td>0</td>\n",
       "      <td>0</td>\n",
       "      <td>1</td>\n",
       "      <td>0</td>\n",
       "      <td>0</td>\n",
       "      <td>0</td>\n",
       "      <td>0</td>\n",
       "      <td>0</td>\n",
       "    </tr>\n",
       "    <tr>\n",
       "      <th>1</th>\n",
       "      <td>38.0</td>\n",
       "      <td>71.2833</td>\n",
       "      <td>0</td>\n",
       "      <td>0</td>\n",
       "      <td>1</td>\n",
       "      <td>1</td>\n",
       "      <td>0</td>\n",
       "      <td>0</td>\n",
       "      <td>0</td>\n",
       "      <td>0</td>\n",
       "      <td>0</td>\n",
       "      <td>0</td>\n",
       "      <td>0</td>\n",
       "      <td>0</td>\n",
       "      <td>0</td>\n",
       "      <td>0</td>\n",
       "      <td>0</td>\n",
       "      <td>0</td>\n",
       "      <td>0</td>\n",
       "      <td>0</td>\n",
       "      <td>0</td>\n",
       "      <td>0</td>\n",
       "      <td>0</td>\n",
       "      <td>0</td>\n",
       "      <td>1</td>\n",
       "      <td>0</td>\n",
       "      <td>0</td>\n",
       "      <td>0</td>\n",
       "      <td>0</td>\n",
       "    </tr>\n",
       "    <tr>\n",
       "      <th>2</th>\n",
       "      <td>26.0</td>\n",
       "      <td>7.9250</td>\n",
       "      <td>0</td>\n",
       "      <td>0</td>\n",
       "      <td>0</td>\n",
       "      <td>1</td>\n",
       "      <td>0</td>\n",
       "      <td>0</td>\n",
       "      <td>1</td>\n",
       "      <td>0</td>\n",
       "      <td>1</td>\n",
       "      <td>0</td>\n",
       "      <td>0</td>\n",
       "      <td>0</td>\n",
       "      <td>0</td>\n",
       "      <td>0</td>\n",
       "      <td>0</td>\n",
       "      <td>0</td>\n",
       "      <td>0</td>\n",
       "      <td>0</td>\n",
       "      <td>1</td>\n",
       "      <td>0</td>\n",
       "      <td>0</td>\n",
       "      <td>0</td>\n",
       "      <td>0</td>\n",
       "      <td>0</td>\n",
       "      <td>0</td>\n",
       "      <td>0</td>\n",
       "      <td>0</td>\n",
       "    </tr>\n",
       "    <tr>\n",
       "      <th>3</th>\n",
       "      <td>35.0</td>\n",
       "      <td>53.1000</td>\n",
       "      <td>0</td>\n",
       "      <td>0</td>\n",
       "      <td>1</td>\n",
       "      <td>1</td>\n",
       "      <td>0</td>\n",
       "      <td>0</td>\n",
       "      <td>1</td>\n",
       "      <td>0</td>\n",
       "      <td>0</td>\n",
       "      <td>0</td>\n",
       "      <td>0</td>\n",
       "      <td>0</td>\n",
       "      <td>0</td>\n",
       "      <td>0</td>\n",
       "      <td>0</td>\n",
       "      <td>0</td>\n",
       "      <td>0</td>\n",
       "      <td>0</td>\n",
       "      <td>0</td>\n",
       "      <td>0</td>\n",
       "      <td>0</td>\n",
       "      <td>0</td>\n",
       "      <td>1</td>\n",
       "      <td>0</td>\n",
       "      <td>0</td>\n",
       "      <td>0</td>\n",
       "      <td>0</td>\n",
       "    </tr>\n",
       "    <tr>\n",
       "      <th>4</th>\n",
       "      <td>35.0</td>\n",
       "      <td>8.0500</td>\n",
       "      <td>0</td>\n",
       "      <td>0</td>\n",
       "      <td>0</td>\n",
       "      <td>0</td>\n",
       "      <td>1</td>\n",
       "      <td>0</td>\n",
       "      <td>1</td>\n",
       "      <td>0</td>\n",
       "      <td>1</td>\n",
       "      <td>0</td>\n",
       "      <td>0</td>\n",
       "      <td>0</td>\n",
       "      <td>0</td>\n",
       "      <td>0</td>\n",
       "      <td>0</td>\n",
       "      <td>0</td>\n",
       "      <td>0</td>\n",
       "      <td>0</td>\n",
       "      <td>0</td>\n",
       "      <td>0</td>\n",
       "      <td>0</td>\n",
       "      <td>1</td>\n",
       "      <td>0</td>\n",
       "      <td>0</td>\n",
       "      <td>0</td>\n",
       "      <td>0</td>\n",
       "      <td>0</td>\n",
       "    </tr>\n",
       "  </tbody>\n",
       "</table>\n",
       "</div>"
      ],
      "text/plain": [
       "    Age     Fare  IS_VALIDATION  Parch  SibSp  Survived  sex_male  embarked_Q  \\\n",
       "0  22.0   7.2500              0      0      1         0         1           0   \n",
       "1  38.0  71.2833              0      0      1         1         0           0   \n",
       "2  26.0   7.9250              0      0      0         1         0           0   \n",
       "3  35.0  53.1000              0      0      1         1         0           0   \n",
       "4  35.0   8.0500              0      0      0         0         1           0   \n",
       "\n",
       "   embarked_S  class_2  class_3  ticket_1  prefix_name_ Col  prefix_name_ Don  \\\n",
       "0           1        0        1         0                 0                 0   \n",
       "1           0        0        0         0                 0                 0   \n",
       "2           1        0        1         0                 0                 0   \n",
       "3           1        0        0         0                 0                 0   \n",
       "4           1        0        1         0                 0                 0   \n",
       "\n",
       "   prefix_name_ Dona  prefix_name_ Dr  prefix_name_ Jonkheer  \\\n",
       "0                  0                0                      0   \n",
       "1                  0                0                      0   \n",
       "2                  0                0                      0   \n",
       "3                  0                0                      0   \n",
       "4                  0                0                      0   \n",
       "\n",
       "   prefix_name_ Lady  prefix_name_ Major  prefix_name_ Master  \\\n",
       "0                  0                   0                    0   \n",
       "1                  0                   0                    0   \n",
       "2                  0                   0                    0   \n",
       "3                  0                   0                    0   \n",
       "4                  0                   0                    0   \n",
       "\n",
       "   prefix_name_ Miss  prefix_name_ Mlle  prefix_name_ Mme  prefix_name_ Mr  \\\n",
       "0                  0                  0                 0                1   \n",
       "1                  0                  0                 0                0   \n",
       "2                  1                  0                 0                0   \n",
       "3                  0                  0                 0                0   \n",
       "4                  0                  0                 0                1   \n",
       "\n",
       "   prefix_name_ Mrs  prefix_name_ Ms  prefix_name_ Rev  prefix_name_ Sir  \\\n",
       "0                 0                0                 0                 0   \n",
       "1                 1                0                 0                 0   \n",
       "2                 0                0                 0                 0   \n",
       "3                 1                0                 0                 0   \n",
       "4                 0                0                 0                 0   \n",
       "\n",
       "   prefix_name_ the Countess  \n",
       "0                          0  \n",
       "1                          0  \n",
       "2                          0  \n",
       "3                          0  \n",
       "4                          0  "
      ]
     },
     "execution_count": 31,
     "metadata": {},
     "output_type": "execute_result"
    }
   ],
   "source": [
    "train.head()"
   ]
  },
  {
   "cell_type": "markdown",
   "metadata": {},
   "source": [
    "Not so bad! You might want to explore other feature engineering and the other titanic_text.csv file, some suggestions for feature engineering:\n",
    "\n",
    "* Try grabbing the Title (Dr.,Mr.,Mrs,etc..) from the name as a feature\n",
    "* Maybe the Cabin letter could be a feature\n",
    "* Is there any info you can get from the ticket?\n",
    "\n",
    "## Great Job!"
   ]
  },
  {
   "cell_type": "code",
   "execution_count": 32,
   "metadata": {},
   "outputs": [
    {
     "name": "stdout",
     "output_type": "stream",
     "text": [
      "RF              precision    recall  f1-score   support\n",
      "\n",
      "          0       0.94      0.90      0.92       265\n",
      "          1       0.84      0.89      0.87       152\n",
      "\n",
      "avg / total       0.90      0.90      0.90       417\n",
      "\n",
      "roc_curve (array([0.        , 0.09811321, 1.        ]), array([0.        , 0.89473684, 1.        ]), array([2, 1, 0], dtype=int64))\n",
      "[[239  26]\n",
      " [ 16 136]]\n",
      "AUC: 0.967\n"
     ]
    }
   ],
   "source": [
    "#submission[submission.PassengerId == 892].head()\n",
    "y_val = validation.Survived\n",
    "validation_features = validation.drop(cols_to_drop,axis=1)\n",
    "#validation_features.head()\n",
    "predictions = regr.predict(validation_features)\n",
    "print('RF', classification_report(y_val,predictions))\n",
    "print('roc_curve', roc_curve(y_val,predictions))\n",
    "print(confusion_matrix(y_val, predictions, labels=[0,1]))\n",
    "# calculate AUC\n",
    "probs = regr.predict_proba(validation_features)\n",
    "probs = probs[:, 1]\n",
    "auc = roc_auc_score(y_val, probs)\n",
    "print('AUC: %.3f' % auc)"
   ]
  },
  {
   "cell_type": "code",
   "execution_count": 33,
   "metadata": {},
   "outputs": [
    {
     "name": "stdout",
     "output_type": "stream",
     "text": [
      "RL              precision    recall  f1-score   support\n",
      "\n",
      "          0       0.95      0.92      0.94       265\n",
      "          1       0.87      0.92      0.89       152\n",
      "\n",
      "avg / total       0.92      0.92      0.92       417\n",
      "\n",
      "roc_curve (array([0.        , 0.07924528, 1.        ]), array([0.        , 0.92105263, 1.        ]), array([2, 1, 0], dtype=int64))\n",
      "[[244  21]\n",
      " [ 12 140]]\n",
      "AUC: 0.952\n"
     ]
    }
   ],
   "source": [
    "predictions = regr_log.predict(validation_features)\n",
    "print('RL', classification_report(y_val,predictions))\n",
    "print('roc_curve', roc_curve(y_val,predictions))\n",
    "print(confusion_matrix(y_val, predictions, labels=[0,1]))\n",
    "# calculate AUC\n",
    "probs = regr_log.predict_proba(validation_features)\n",
    "probs = probs[:, 1]\n",
    "auc = roc_auc_score(y_val, probs)\n",
    "print('AUC: %.3f' % auc)"
   ]
  },
  {
   "cell_type": "code",
   "execution_count": null,
   "metadata": {},
   "outputs": [],
   "source": []
  },
  {
   "cell_type": "code",
   "execution_count": 1683,
   "metadata": {},
   "outputs": [
    {
     "data": {
      "text/plain": [
       "'from sklearn.ensemble import ExtraTreesClassifier\\n# load the iris datasets\\ndataset = datasets.load_iris()\\n# fit an Extra Trees model to the data\\nmodel = ExtraTreesClassifier()\\nmodel.fit(dataset.data, dataset.target)\\n# display the relative importance of each attribute\\nprint(model.feature_importances_)\\npredict_proba'"
      ]
     },
     "execution_count": 1683,
     "metadata": {},
     "output_type": "execute_result"
    }
   ],
   "source": [
    "'''from sklearn.ensemble import ExtraTreesClassifier\n",
    "# load the iris datasets\n",
    "dataset = datasets.load_iris()\n",
    "# fit an Extra Trees model to the data\n",
    "model = ExtraTreesClassifier()\n",
    "model.fit(dataset.data, dataset.target)\n",
    "# display the relative importance of each attribute\n",
    "print(model.feature_importances_)\n",
    "predict_proba'''"
   ]
  },
  {
   "cell_type": "code",
   "execution_count": null,
   "metadata": {
    "collapsed": true
   },
   "outputs": [],
   "source": [
    "# plotting them against each other\n",
    "def plot_roc_curve(false_positive_rate, true_positive_rate, label=None):\n",
    "    plt.plot(false_positive_rate, true_positive_rate, linewidth=2, label=label)\n",
    "    plt.plot([0, 1], [0, 1], 'r', linewidth=4)\n",
    "    plt.axis([0, 1, 0, 1])\n",
    "    plt.xlabel('False Positive Rate (FPR)', fontsize=16)\n",
    "    plt.ylabel('True Positive Rate (TPR)', fontsize=16)\n",
    "\n",
    "plt.figure(figsize=(14, 7))\n",
    "plot_roc_curve(false_positive_rate, true_positive_rate)\n",
    "plt.show()\n",
    "#https://www.kaggle.com/niklasdonges/end-to-end-project-with-python"
   ]
  }
 ],
 "metadata": {
  "anaconda-cloud": {},
  "kernelspec": {
   "display_name": "Python 3",
   "language": "python",
   "name": "python3"
  },
  "language_info": {
   "codemirror_mode": {
    "name": "ipython",
    "version": 3
   },
   "file_extension": ".py",
   "mimetype": "text/x-python",
   "name": "python",
   "nbconvert_exporter": "python",
   "pygments_lexer": "ipython3",
   "version": "3.7.0"
  }
 },
 "nbformat": 4,
 "nbformat_minor": 1
}
