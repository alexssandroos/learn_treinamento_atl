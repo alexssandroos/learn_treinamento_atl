{
 "cells": [
  {
   "cell_type": "markdown",
   "metadata": {
    "collapsed": true
   },
   "source": [
    "# Introdução ao Python e Bibliotecas\n",
    "\n",
    "Durante esta introdução, veremos as seguintes libs:\n",
    "\n",
    "* NumPy\n",
    "* Pandas\n",
    "* Scikit-learn\n",
    "* Matplotlib\n",
    "\n",
    "\n",
    "### NumPy\n",
    "http://www.numpy.org/\n",
    "\n",
    "* Arrays\n",
    "* Métodos\n",
    "* Operações\n",
    "* Indexação e seleção\n",
    "\n",
    "\n",
    "### Pandas\n",
    "https://pandas.pydata.org/\n",
    "\n",
    "* Series\n",
    "* DataFrames\n",
    "* GroupBy\n",
    "* Merging, Joining e Concatenação\n",
    "* Operações\n",
    "* Entrada e Saída de Dados\n",
    "\n",
    "### Scikit-learn\n",
    "https://scikit-learn.org/stable/\n",
    "\n",
    "* Introdução ao machine learning com Scikit-learn\n",
    "* Pré-processamento e transformação de dados\n",
    "* Utilizando algoritmos de machine learning\n",
    "* Análise e teste de algoritmos\n",
    "\n",
    "\n",
    "### Matplotlib\n",
    "https://matplotlib.org/\n",
    "\n",
    "* Plotagem de gráficos simples\n",
    "* Plotagem de múltiplos gráficos\n",
    "\n",
    "### Seaborn\n",
    "https://seaborn.pydata.org/\n",
    "\n",
    "* Gráficos em geral\n",
    "\n",
    "\n",
    "\n",
    "\n",
    "\n",
    "## Referências\n",
    "\n",
    "#### Parte deste material é referente ao curso de Jose Portilla na <a href=\"https://www.udemy.com/python-for-data-science-and-machine-learning-bootcamp/\">Udemy</a>. Portanto, o mesmo foi utilizado e adaptado para as necessidades do curso atual.\n"
   ]
  },
  {
   "cell_type": "code",
   "execution_count": null,
   "metadata": {},
   "outputs": [],
   "source": []
  }
 ],
 "metadata": {
  "kernelspec": {
   "display_name": "Python 3",
   "language": "python",
   "name": "python3"
  },
  "language_info": {
   "codemirror_mode": {
    "name": "ipython",
    "version": 3
   },
   "file_extension": ".py",
   "mimetype": "text/x-python",
   "name": "python",
   "nbconvert_exporter": "python",
   "pygments_lexer": "ipython3",
   "version": "3.7.0"
  }
 },
 "nbformat": 4,
 "nbformat_minor": 1
}
