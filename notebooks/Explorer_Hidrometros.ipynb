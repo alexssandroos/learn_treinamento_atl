{
 "cells": [
  {
   "cell_type": "markdown",
   "metadata": {},
   "source": [
    "# Análise exploratória hidrometros \n",
    "\n",
    "## População : Hidrometros com troca em **2017**\n",
    "\n",
    "## [Seaborn | Gráficos](https://seaborn.pydata.org/)\n",
    "\n",
    "## [Pandas | Data Munging](https://pandas.pydata.org/)"
   ]
  },
  {
   "cell_type": "code",
   "execution_count": 1,
   "metadata": {},
   "outputs": [],
   "source": [
    "import pandas as pd\n",
    "import numpy as np\n",
    "import matplotlib.pyplot as plt\n",
    "import seaborn as sns\n",
    "import sqlite3 as sql\n",
    "plt.style.use('fivethirtyeight')"
   ]
  },
  {
   "cell_type": "code",
   "execution_count": 7,
   "metadata": {},
   "outputs": [],
   "source": [
    "df = pd.read_csv('../data/dataset_substituicoes_2017.csv',\\\n",
    "                 parse_dates=['REL_DAT_SUBSTITUICAO', 'REL_DAT_INS_ANTERIOR', 'REL_DAT_INSTALACAO'],\\\n",
    "                 decimal=',', thousands='.')"
   ]
  },
  {
   "cell_type": "code",
   "execution_count": 8,
   "metadata": {},
   "outputs": [
    {
     "data": {
      "text/html": [
       "<div>\n",
       "<style scoped>\n",
       "    .dataframe tbody tr th:only-of-type {\n",
       "        vertical-align: middle;\n",
       "    }\n",
       "\n",
       "    .dataframe tbody tr th {\n",
       "        vertical-align: top;\n",
       "    }\n",
       "\n",
       "    .dataframe thead th {\n",
       "        text-align: right;\n",
       "    }\n",
       "</style>\n",
       "<table border=\"1\" class=\"dataframe\">\n",
       "  <thead>\n",
       "    <tr style=\"text-align: right;\">\n",
       "      <th></th>\n",
       "      <th>REL_SEQ_DESEMPENHO_MEDIDOR</th>\n",
       "      <th>REL_SLG_UNIDADE_ADMIN</th>\n",
       "      <th>REL_COD_UNIDADE_ADMIN</th>\n",
       "      <th>REL_SLG_UNIDADE_ADMIN_DES</th>\n",
       "      <th>REL_COD_UNIDADE_ADMIN_DES</th>\n",
       "      <th>REL_LGE_DSC_LOCAL</th>\n",
       "      <th>REL_QTD_RESIDENCIAL</th>\n",
       "      <th>REL_QTD_COMERCIAL</th>\n",
       "      <th>REL_QTD_INDUSTRIAL</th>\n",
       "      <th>REL_QTD_PUBLICA</th>\n",
       "      <th>...</th>\n",
       "      <th>REL_FLG_PROCESSADO</th>\n",
       "      <th>REL_DAT_SUBSTITUICAO</th>\n",
       "      <th>REL_NUM_SETOR</th>\n",
       "      <th>REL_NUM_QUADRA</th>\n",
       "      <th>REL_SEQ_MARCA_MEDIDOR</th>\n",
       "      <th>REL_SEQ_CAPACIDADE_MEDIDOR</th>\n",
       "      <th>REL_SEQ_MOTIVO_RETIRADA</th>\n",
       "      <th>REL_SEQ_SERVICO</th>\n",
       "      <th>REL_DAT_INS_ANTERIOR</th>\n",
       "      <th>REL_IDADE_MEDIDOR</th>\n",
       "    </tr>\n",
       "  </thead>\n",
       "  <tbody>\n",
       "    <tr>\n",
       "      <th>0</th>\n",
       "      <td>1317755</td>\n",
       "      <td>UN-MTL</td>\n",
       "      <td>45</td>\n",
       "      <td>UN-MTL</td>\n",
       "      <td>45</td>\n",
       "      <td>FORTALEZA</td>\n",
       "      <td>1</td>\n",
       "      <td>0</td>\n",
       "      <td>0</td>\n",
       "      <td>0</td>\n",
       "      <td>...</td>\n",
       "      <td>1</td>\n",
       "      <td>2017-01-26</td>\n",
       "      <td>12</td>\n",
       "      <td>68</td>\n",
       "      <td>10</td>\n",
       "      <td>3</td>\n",
       "      <td>15</td>\n",
       "      <td>31051</td>\n",
       "      <td>2016-01-15</td>\n",
       "      <td>1.0</td>\n",
       "    </tr>\n",
       "    <tr>\n",
       "      <th>1</th>\n",
       "      <td>1317964</td>\n",
       "      <td>UN-MTL</td>\n",
       "      <td>45</td>\n",
       "      <td>UN-MTL</td>\n",
       "      <td>45</td>\n",
       "      <td>FORTALEZA</td>\n",
       "      <td>1</td>\n",
       "      <td>0</td>\n",
       "      <td>0</td>\n",
       "      <td>0</td>\n",
       "      <td>...</td>\n",
       "      <td>1</td>\n",
       "      <td>2017-01-25</td>\n",
       "      <td>23</td>\n",
       "      <td>215</td>\n",
       "      <td>10</td>\n",
       "      <td>3</td>\n",
       "      <td>3</td>\n",
       "      <td>31051</td>\n",
       "      <td>2009-11-30</td>\n",
       "      <td>8.0</td>\n",
       "    </tr>\n",
       "  </tbody>\n",
       "</table>\n",
       "<p>2 rows × 74 columns</p>\n",
       "</div>"
      ],
      "text/plain": [
       "   REL_SEQ_DESEMPENHO_MEDIDOR REL_SLG_UNIDADE_ADMIN  REL_COD_UNIDADE_ADMIN  \\\n",
       "0                     1317755                UN-MTL                     45   \n",
       "1                     1317964                UN-MTL                     45   \n",
       "\n",
       "  REL_SLG_UNIDADE_ADMIN_DES  REL_COD_UNIDADE_ADMIN_DES REL_LGE_DSC_LOCAL  \\\n",
       "0                    UN-MTL                         45         FORTALEZA   \n",
       "1                    UN-MTL                         45         FORTALEZA   \n",
       "\n",
       "   REL_QTD_RESIDENCIAL  REL_QTD_COMERCIAL  REL_QTD_INDUSTRIAL  \\\n",
       "0                    1                  0                   0   \n",
       "1                    1                  0                   0   \n",
       "\n",
       "   REL_QTD_PUBLICA        ...         REL_FLG_PROCESSADO REL_DAT_SUBSTITUICAO  \\\n",
       "0                0        ...                          1           2017-01-26   \n",
       "1                0        ...                          1           2017-01-25   \n",
       "\n",
       "  REL_NUM_SETOR REL_NUM_QUADRA REL_SEQ_MARCA_MEDIDOR  \\\n",
       "0            12             68                    10   \n",
       "1            23            215                    10   \n",
       "\n",
       "   REL_SEQ_CAPACIDADE_MEDIDOR REL_SEQ_MOTIVO_RETIRADA  REL_SEQ_SERVICO  \\\n",
       "0                           3                      15            31051   \n",
       "1                           3                       3            31051   \n",
       "\n",
       "   REL_DAT_INS_ANTERIOR  REL_IDADE_MEDIDOR  \n",
       "0            2016-01-15                1.0  \n",
       "1            2009-11-30                8.0  \n",
       "\n",
       "[2 rows x 74 columns]"
      ]
     },
     "execution_count": 8,
     "metadata": {},
     "output_type": "execute_result"
    }
   ],
   "source": [
    "df.head(2)"
   ]
  },
  {
   "cell_type": "markdown",
   "metadata": {},
   "source": [
    "### Valores nulos"
   ]
  },
  {
   "cell_type": "code",
   "execution_count": 36,
   "metadata": {},
   "outputs": [
    {
     "data": {
      "text/plain": [
       "REL_TIPO_TARIFA                   1.000000\n",
       "REL_NUM_FAIXA                     1.000000\n",
       "REL_SEQ_CFA_CODIGO_FATURAMENTO    0.609212\n",
       "REL_IDADE_MEDIDOR                 0.000262\n",
       "dtype: float64"
      ]
     },
     "execution_count": 36,
     "metadata": {},
     "output_type": "execute_result"
    }
   ],
   "source": [
    "a = 1-(df.count()/len(df))\n",
    "a[a!=0]"
   ]
  },
  {
   "cell_type": "code",
   "execution_count": 5,
   "metadata": {},
   "outputs": [],
   "source": [
    "del df['REL_TIPO_TARIFA']\n",
    "del df['REL_NUM_FAIXA']"
   ]
  },
  {
   "cell_type": "code",
   "execution_count": 10,
   "metadata": {},
   "outputs": [
    {
     "data": {
      "text/html": [
       "<div>\n",
       "<style scoped>\n",
       "    .dataframe tbody tr th:only-of-type {\n",
       "        vertical-align: middle;\n",
       "    }\n",
       "\n",
       "    .dataframe tbody tr th {\n",
       "        vertical-align: top;\n",
       "    }\n",
       "\n",
       "    .dataframe thead th {\n",
       "        text-align: right;\n",
       "    }\n",
       "</style>\n",
       "<table border=\"1\" class=\"dataframe\">\n",
       "  <thead>\n",
       "    <tr style=\"text-align: right;\">\n",
       "      <th></th>\n",
       "      <th>REL_TIPO_TARIFA</th>\n",
       "      <th>REL_NUM_FAIXA</th>\n",
       "      <th>REL_SEQ_CFA_CODIGO_FATURAMENTO</th>\n",
       "    </tr>\n",
       "  </thead>\n",
       "  <tbody>\n",
       "    <tr>\n",
       "      <th>0</th>\n",
       "      <td>NaN</td>\n",
       "      <td>NaN</td>\n",
       "      <td>236616251.0</td>\n",
       "    </tr>\n",
       "    <tr>\n",
       "      <th>1</th>\n",
       "      <td>NaN</td>\n",
       "      <td>NaN</td>\n",
       "      <td>237489943.0</td>\n",
       "    </tr>\n",
       "  </tbody>\n",
       "</table>\n",
       "</div>"
      ],
      "text/plain": [
       "   REL_TIPO_TARIFA  REL_NUM_FAIXA  REL_SEQ_CFA_CODIGO_FATURAMENTO\n",
       "0              NaN            NaN                     236616251.0\n",
       "1              NaN            NaN                     237489943.0"
      ]
     },
     "execution_count": 10,
     "metadata": {},
     "output_type": "execute_result"
    }
   ],
   "source": [
    "# Colunas a desconsiderar : REL_TIPO_TARIFA, REL_NUM_FAIXA.\n",
    "# Eliminar as nulas em REL_SEQ_CFA_CODIGO_FATURAMENTO.\n",
    "df[['REL_TIPO_TARIFA','REL_NUM_FAIXA', 'REL_SEQ_CFA_CODIGO_FATURAMENTO' ]].head(2)"
   ]
  },
  {
   "cell_type": "code",
   "execution_count": 11,
   "metadata": {},
   "outputs": [
    {
     "data": {
      "image/png": "[encoded data removed]",
      "text/plain": [
       "<Figure size 504x504 with 1 Axes>"
      ]
     },
     "metadata": {
      "needs_background": "light"
     },
     "output_type": "display_data"
    }
   ],
   "source": [
    "# A grande maioria de nossos hidrometros é trocado no periodo de 8 a 10 anos.\n",
    "sns.catplot(y=\"REL_IDADE_MEDIDOR\",\n",
    "             height=7,\n",
    "            kind=\"count\", data=df);"
   ]
  },
  {
   "cell_type": "code",
   "execution_count": 12,
   "metadata": {},
   "outputs": [
    {
     "data": {
      "text/html": [
       "<div>\n",
       "<style scoped>\n",
       "    .dataframe tbody tr th:only-of-type {\n",
       "        vertical-align: middle;\n",
       "    }\n",
       "\n",
       "    .dataframe tbody tr th {\n",
       "        vertical-align: top;\n",
       "    }\n",
       "\n",
       "    .dataframe thead th {\n",
       "        text-align: right;\n",
       "    }\n",
       "</style>\n",
       "<table border=\"1\" class=\"dataframe\">\n",
       "  <thead>\n",
       "    <tr style=\"text-align: right;\">\n",
       "      <th></th>\n",
       "      <th>REL_SEQ_DESEMPENHO_MEDIDOR</th>\n",
       "      <th>REL_DAT_SUBSTITUICAO</th>\n",
       "      <th>REL_DAT_INS_ANTERIOR</th>\n",
       "      <th>REL_DAT_INSTALACAO</th>\n",
       "      <th>REL_IDADE_MEDIDOR</th>\n",
       "    </tr>\n",
       "  </thead>\n",
       "  <tbody>\n",
       "  </tbody>\n",
       "</table>\n",
       "</div>"
      ],
      "text/plain": [
       "Empty DataFrame\n",
       "Columns: [REL_SEQ_DESEMPENHO_MEDIDOR, REL_DAT_SUBSTITUICAO, REL_DAT_INS_ANTERIOR, REL_DAT_INSTALACAO, REL_IDADE_MEDIDOR]\n",
       "Index: []"
      ]
     },
     "execution_count": 12,
     "metadata": {},
     "output_type": "execute_result"
    }
   ],
   "source": [
    "# O que pode tornar a idade do medidor negativa?\n",
    "# possivelmente, eliminar.\n",
    "df[df['REL_IDADE_MEDIDOR'] < 0][['REL_SEQ_DESEMPENHO_MEDIDOR','REL_DAT_SUBSTITUICAO', 'REL_DAT_INS_ANTERIOR', 'REL_DAT_INSTALACAO','REL_IDADE_MEDIDOR']]"
   ]
  },
  {
   "cell_type": "code",
   "execution_count": 13,
   "metadata": {},
   "outputs": [
    {
     "data": {
      "text/plain": [
       "Index(['REL_SEQ_DESEMPENHO_MEDIDOR', 'REL_SLG_UNIDADE_ADMIN',\n",
       "       'REL_COD_UNIDADE_ADMIN', 'REL_SLG_UNIDADE_ADMIN_DES',\n",
       "       'REL_COD_UNIDADE_ADMIN_DES', 'REL_LGE_DSC_LOCAL', 'REL_QTD_RESIDENCIAL',\n",
       "       'REL_QTD_COMERCIAL', 'REL_QTD_INDUSTRIAL', 'REL_QTD_PUBLICA',\n",
       "       'REL_NOM_CLIENTE', 'REL_ENDERECO', 'REL_CODIFICACAO', 'REL_NUM_MEDIDOR',\n",
       "       'REL_NUM_MEDIDOR_ANT', 'REL_INSCRICAO', 'REL_DAT_INSTALACAO',\n",
       "       'REL_VLR_MEDIO_ATUAL_3', 'REL_VLR_MEDIO_ATUAL_6',\n",
       "       'REL_VLR_MEDIO_ATUAL_12', 'REL_VLR_MEDIO_ATUAL_24',\n",
       "       'REL_VLR_MEDIO_ATUAL_1MES_3', 'REL_VLR_MEDIO_ATUAL_1MES_6',\n",
       "       'REL_VLR_MEDIO_ATUAL_1MES_12', 'REL_VLR_MEDIO_ATUAL_1MES_24',\n",
       "       'REL_VLR_MEDIO_ANT_3', 'REL_VLR_MEDIO_ANT_6', 'REL_VLR_MEDIO_ANT_12',\n",
       "       'REL_VLR_MEDIO_ANT_24', 'REL_VLR_MEDIO_ANT_1MES_3',\n",
       "       'REL_VLR_MEDIO_ANT_1MES_6', 'REL_VLR_MEDIO_ANT_1MES_12',\n",
       "       'REL_VLR_MEDIO_ANT_1MES_24', 'REL_VOLUME_MEDIO_3', 'REL_VOLUME_MEDIO_6',\n",
       "       'REL_VOLUME_MEDIO_12', 'REL_VOLUME_MEDIO_24', 'REL_VOLUME_MEDIO_1MES_3',\n",
       "       'REL_VOLUME_MEDIO_1MES_6', 'REL_VOLUME_MEDIO_1MES_12',\n",
       "       'REL_VOLUME_MEDIO_1MES_24', 'REL_VOLUME_MED_ATUAL_3',\n",
       "       'REL_VOLUME_MED_ATUAL_6', 'REL_VOLUME_MED_ATUAL_12',\n",
       "       'REL_VOLUME_MED_ATUAL_24', 'REL_VOLUME_MED_ATUAL_1MES_3',\n",
       "       'REL_VOLUME_MED_ATUAL_1MES_6', 'REL_VOLUME_MED_ATUAL_1MES_12',\n",
       "       'REL_VOLUME_MED_ATUAL_1MES_24', 'REL_VOLUME_MED_ANT_3',\n",
       "       'REL_VOLUME_MED_ANT_6', 'REL_VOLUME_MED_ANT_12',\n",
       "       'REL_VOLUME_MED_ANT_24', 'REL_VOLUME_MED_ANT_1MES_3',\n",
       "       'REL_VOLUME_MED_ANT_1MES_6', 'REL_VOLUME_MED_ANT_1MES_12',\n",
       "       'REL_VOLUME_MED_ANT_1MES_24', 'REL_COMPETENCIA', 'REL_LGE_COD_SIG',\n",
       "       'REL_TIPO_TARIFA', 'REL_NUM_FAIXA', 'REL_SEQ_INSTALACAO',\n",
       "       'REL_SEQ_INSTALACAO_ANT', 'REL_SEQ_CFA_CODIGO_FATURAMENTO',\n",
       "       'REL_FLG_PROCESSADO', 'REL_DAT_SUBSTITUICAO', 'REL_NUM_SETOR',\n",
       "       'REL_NUM_QUADRA', 'REL_SEQ_MARCA_MEDIDOR', 'REL_SEQ_CAPACIDADE_MEDIDOR',\n",
       "       'REL_SEQ_MOTIVO_RETIRADA', 'REL_SEQ_SERVICO', 'REL_DAT_INS_ANTERIOR',\n",
       "       'REL_IDADE_MEDIDOR'],\n",
       "      dtype='object')"
      ]
     },
     "execution_count": 13,
     "metadata": {},
     "output_type": "execute_result"
    }
   ],
   "source": [
    "df.columns"
   ]
  },
  {
   "cell_type": "code",
   "execution_count": 14,
   "metadata": {},
   "outputs": [
    {
     "data": {
      "text/plain": [
       "(87774, 74)"
      ]
     },
     "execution_count": 14,
     "metadata": {},
     "output_type": "execute_result"
    }
   ],
   "source": [
    "df.shape"
   ]
  },
  {
   "cell_type": "code",
   "execution_count": 15,
   "metadata": {},
   "outputs": [
    {
     "data": {
      "text/plain": [
       "255"
      ]
     },
     "execution_count": 15,
     "metadata": {},
     "output_type": "execute_result"
    }
   ],
   "source": [
    "# Reduzir amostra para fortaleza , para adcionar setores de abastecimento\n",
    "# Fortaleza representa mais de 50% das trocas efetuadas no ano.\n",
    "# Total Municipios\n",
    "#set(df['REL_LGE_DSC_LOCAL'])\n",
    "len(set(df['REL_LGE_DSC_LOCAL']))"
   ]
  },
  {
   "cell_type": "code",
   "execution_count": 16,
   "metadata": {},
   "outputs": [
    {
     "data": {
      "text/plain": [
       "REL_LGE_DSC_LOCAL\n",
       "CAUCAIA      0.050550\n",
       "MARACANAU    0.051895\n",
       "FORTALEZA    0.508123\n",
       "Name: REL_LGE_DSC_LOCAL, dtype: float64"
      ]
     },
     "execution_count": 16,
     "metadata": {},
     "output_type": "execute_result"
    }
   ],
   "source": [
    "df3 = df.groupby(['REL_LGE_DSC_LOCAL'])['REL_LGE_DSC_LOCAL'].count().sort_values()/len(df)\n",
    "df3[df3>0.04]"
   ]
  },
  {
   "cell_type": "code",
   "execution_count": 17,
   "metadata": {},
   "outputs": [
    {
     "data": {
      "text/plain": [
       "REL_LGE_DSC_LOCAL\n",
       "CAUCAIA       4437\n",
       "MARACANAU     4555\n",
       "FORTALEZA    44600\n",
       "Name: REL_LGE_DSC_LOCAL, dtype: int64"
      ]
     },
     "execution_count": 17,
     "metadata": {},
     "output_type": "execute_result"
    }
   ],
   "source": [
    "df2 = df.groupby(['REL_LGE_DSC_LOCAL'])['REL_LGE_DSC_LOCAL'].count().sort_values()\n",
    "df2[df2>2447]"
   ]
  },
  {
   "cell_type": "code",
   "execution_count": 18,
   "metadata": {},
   "outputs": [],
   "source": [
    "#Exportar\n",
    "df[df['REL_LGE_DSC_LOCAL'] == 'FORTALEZA']['REL_INSCRICAO'].to_csv('inscricoes_fortaleza.csv')"
   ]
  },
  {
   "cell_type": "code",
   "execution_count": 20,
   "metadata": {},
   "outputs": [
    {
     "data": {
      "text/plain": [
       "(32172, 74)"
      ]
     },
     "execution_count": 20,
     "metadata": {},
     "output_type": "execute_result"
    }
   ],
   "source": [
    "# Populacao amostral das trocas efetuadas em fortaleza\n",
    "# Residenciais nao mistos\n",
    "# servico 44349 = 336\n",
    "df_ = df[(df['REL_LGE_DSC_LOCAL'] == 'FORTALEZA')&\\\n",
    "   (df['REL_QTD_RESIDENCIAL'] > 0)&\\\n",
    "   (df['REL_QTD_COMERCIAL'] == 0)&\\\n",
    "   (df['REL_QTD_INDUSTRIAL'] == 0)&\\\n",
    "   (df['REL_QTD_PUBLICA'] == 0)&\\\n",
    "   (df['REL_SEQ_SERVICO'] == 44349)\n",
    "  ].copy()\n",
    "df_.shape"
   ]
  },
  {
   "cell_type": "code",
   "execution_count": 97,
   "metadata": {},
   "outputs": [],
   "source": [
    "df_['REL_INSCRICAO'].to_csv('inscricoes_fortaleza.csv')"
   ]
  },
  {
   "cell_type": "code",
   "execution_count": 37,
   "metadata": {},
   "outputs": [],
   "source": [
    "df_.to_csv('dataset_substituicoes_2017_AMOSTRA1.csv', index=False)\n",
    "#df_ = pd.read_csv('dataset_substituicoes_2017_AMOSTRA1.csv',\\\n",
    "#                 parse_dates=['REL_DAT_SUBSTITUICAO', 'REL_DAT_INS_ANTERIOR', 'REL_DAT_INSTALACAO'],\\\n",
    "#                 decimal=',', thousands='.')"
   ]
  },
  {
   "cell_type": "code",
   "execution_count": 21,
   "metadata": {},
   "outputs": [
    {
     "data": {
      "text/plain": [
       "(32172, 60)"
      ]
     },
     "execution_count": 21,
     "metadata": {},
     "output_type": "execute_result"
    }
   ],
   "source": [
    "df_.drop(columns=['REL_QTD_PUBLICA',\\\n",
    "                  'REL_QTD_INDUSTRIAL',\\\n",
    "                  'REL_QTD_COMERCIAL',\\\n",
    "                  'REL_NOM_CLIENTE',\\\n",
    "                  'REL_ENDERECO',\\\n",
    "                  'REL_SEQ_SERVICO',\\\n",
    "                  'REL_LGE_DSC_LOCAL',\\\n",
    "                  'REL_TIPO_TARIFA',\\\n",
    "                  'REL_CODIFICACAO',\\\n",
    "                  'REL_COD_UNIDADE_ADMIN_DES',\\\n",
    "                  'REL_SLG_UNIDADE_ADMIN_DES',\\\n",
    "                  'REL_SEQ_CFA_CODIGO_FATURAMENTO',\\\n",
    "                  'REL_FLG_PROCESSADO',\\\n",
    "                  'REL_NUM_FAIXA']\n",
    "         ,inplace=True)\n",
    "df_.shape"
   ]
  },
  {
   "cell_type": "code",
   "execution_count": 22,
   "metadata": {},
   "outputs": [
    {
     "data": {
      "text/html": [
       "<div>\n",
       "<style scoped>\n",
       "    .dataframe tbody tr th:only-of-type {\n",
       "        vertical-align: middle;\n",
       "    }\n",
       "\n",
       "    .dataframe tbody tr th {\n",
       "        vertical-align: top;\n",
       "    }\n",
       "\n",
       "    .dataframe thead th {\n",
       "        text-align: right;\n",
       "    }\n",
       "</style>\n",
       "<table border=\"1\" class=\"dataframe\">\n",
       "  <thead>\n",
       "    <tr style=\"text-align: right;\">\n",
       "      <th></th>\n",
       "      <th>REL_SEQ_DESEMPENHO_MEDIDOR</th>\n",
       "      <th>REL_SLG_UNIDADE_ADMIN</th>\n",
       "      <th>REL_COD_UNIDADE_ADMIN</th>\n",
       "      <th>REL_QTD_RESIDENCIAL</th>\n",
       "      <th>REL_NUM_MEDIDOR</th>\n",
       "      <th>REL_NUM_MEDIDOR_ANT</th>\n",
       "      <th>REL_INSCRICAO</th>\n",
       "      <th>REL_DAT_INSTALACAO</th>\n",
       "      <th>REL_VLR_MEDIO_ATUAL_3</th>\n",
       "      <th>REL_VLR_MEDIO_ATUAL_6</th>\n",
       "      <th>...</th>\n",
       "      <th>REL_SEQ_INSTALACAO</th>\n",
       "      <th>REL_SEQ_INSTALACAO_ANT</th>\n",
       "      <th>REL_DAT_SUBSTITUICAO</th>\n",
       "      <th>REL_NUM_SETOR</th>\n",
       "      <th>REL_NUM_QUADRA</th>\n",
       "      <th>REL_SEQ_MARCA_MEDIDOR</th>\n",
       "      <th>REL_SEQ_CAPACIDADE_MEDIDOR</th>\n",
       "      <th>REL_SEQ_MOTIVO_RETIRADA</th>\n",
       "      <th>REL_DAT_INS_ANTERIOR</th>\n",
       "      <th>REL_IDADE_MEDIDOR</th>\n",
       "    </tr>\n",
       "  </thead>\n",
       "  <tbody>\n",
       "    <tr>\n",
       "      <th>95</th>\n",
       "      <td>1371049</td>\n",
       "      <td>UN-MTL</td>\n",
       "      <td>45</td>\n",
       "      <td>3</td>\n",
       "      <td>A16F260231</td>\n",
       "      <td>A07S089979</td>\n",
       "      <td>2019957</td>\n",
       "      <td>2017-01-21</td>\n",
       "      <td>87.31</td>\n",
       "      <td>98.18</td>\n",
       "      <td>...</td>\n",
       "      <td>301250560</td>\n",
       "      <td>2019957</td>\n",
       "      <td>2017-01-21</td>\n",
       "      <td>46</td>\n",
       "      <td>43</td>\n",
       "      <td>10</td>\n",
       "      <td>3</td>\n",
       "      <td>2</td>\n",
       "      <td>2007-04-19</td>\n",
       "      <td>10.0</td>\n",
       "    </tr>\n",
       "    <tr>\n",
       "      <th>164</th>\n",
       "      <td>1364626</td>\n",
       "      <td>UN-MTL</td>\n",
       "      <td>45</td>\n",
       "      <td>1</td>\n",
       "      <td>A17F000595</td>\n",
       "      <td>A08F499040</td>\n",
       "      <td>53155</td>\n",
       "      <td>2017-02-07</td>\n",
       "      <td>31.51</td>\n",
       "      <td>33.11</td>\n",
       "      <td>...</td>\n",
       "      <td>301271570</td>\n",
       "      <td>53155</td>\n",
       "      <td>2017-02-07</td>\n",
       "      <td>2</td>\n",
       "      <td>64</td>\n",
       "      <td>10</td>\n",
       "      <td>3</td>\n",
       "      <td>2</td>\n",
       "      <td>2009-02-16</td>\n",
       "      <td>8.0</td>\n",
       "    </tr>\n",
       "  </tbody>\n",
       "</table>\n",
       "<p>2 rows × 60 columns</p>\n",
       "</div>"
      ],
      "text/plain": [
       "     REL_SEQ_DESEMPENHO_MEDIDOR REL_SLG_UNIDADE_ADMIN  REL_COD_UNIDADE_ADMIN  \\\n",
       "95                      1371049                UN-MTL                     45   \n",
       "164                     1364626                UN-MTL                     45   \n",
       "\n",
       "     REL_QTD_RESIDENCIAL REL_NUM_MEDIDOR REL_NUM_MEDIDOR_ANT  REL_INSCRICAO  \\\n",
       "95                     3      A16F260231          A07S089979        2019957   \n",
       "164                    1      A17F000595          A08F499040          53155   \n",
       "\n",
       "    REL_DAT_INSTALACAO  REL_VLR_MEDIO_ATUAL_3  REL_VLR_MEDIO_ATUAL_6  \\\n",
       "95          2017-01-21                  87.31                  98.18   \n",
       "164         2017-02-07                  31.51                  33.11   \n",
       "\n",
       "           ...          REL_SEQ_INSTALACAO  REL_SEQ_INSTALACAO_ANT  \\\n",
       "95         ...                   301250560                 2019957   \n",
       "164        ...                   301271570                   53155   \n",
       "\n",
       "     REL_DAT_SUBSTITUICAO  REL_NUM_SETOR  REL_NUM_QUADRA  \\\n",
       "95             2017-01-21             46              43   \n",
       "164            2017-02-07              2              64   \n",
       "\n",
       "     REL_SEQ_MARCA_MEDIDOR  REL_SEQ_CAPACIDADE_MEDIDOR  \\\n",
       "95                      10                           3   \n",
       "164                     10                           3   \n",
       "\n",
       "     REL_SEQ_MOTIVO_RETIRADA  REL_DAT_INS_ANTERIOR  REL_IDADE_MEDIDOR  \n",
       "95                         2            2007-04-19               10.0  \n",
       "164                        2            2009-02-16                8.0  \n",
       "\n",
       "[2 rows x 60 columns]"
      ]
     },
     "execution_count": 22,
     "metadata": {},
     "output_type": "execute_result"
    }
   ],
   "source": [
    "df_.head(2)"
   ]
  },
  {
   "cell_type": "code",
   "execution_count": 23,
   "metadata": {},
   "outputs": [
    {
     "data": {
      "text/html": [
       "<div>\n",
       "<style scoped>\n",
       "    .dataframe tbody tr th:only-of-type {\n",
       "        vertical-align: middle;\n",
       "    }\n",
       "\n",
       "    .dataframe tbody tr th {\n",
       "        vertical-align: top;\n",
       "    }\n",
       "\n",
       "    .dataframe thead th {\n",
       "        text-align: right;\n",
       "    }\n",
       "</style>\n",
       "<table border=\"1\" class=\"dataframe\">\n",
       "  <thead>\n",
       "    <tr style=\"text-align: right;\">\n",
       "      <th></th>\n",
       "      <th>REL_SEQ_DESEMPENHO_MEDIDOR</th>\n",
       "      <th>REL_COD_UNIDADE_ADMIN</th>\n",
       "      <th>REL_QTD_RESIDENCIAL</th>\n",
       "      <th>REL_INSCRICAO</th>\n",
       "      <th>REL_VLR_MEDIO_ATUAL_3</th>\n",
       "      <th>REL_VLR_MEDIO_ATUAL_6</th>\n",
       "      <th>REL_VLR_MEDIO_ATUAL_12</th>\n",
       "      <th>REL_VLR_MEDIO_ATUAL_24</th>\n",
       "      <th>REL_VLR_MEDIO_ATUAL_1MES_3</th>\n",
       "      <th>REL_VLR_MEDIO_ATUAL_1MES_6</th>\n",
       "      <th>...</th>\n",
       "      <th>REL_COMPETENCIA</th>\n",
       "      <th>REL_LGE_COD_SIG</th>\n",
       "      <th>REL_SEQ_INSTALACAO</th>\n",
       "      <th>REL_SEQ_INSTALACAO_ANT</th>\n",
       "      <th>REL_NUM_SETOR</th>\n",
       "      <th>REL_NUM_QUADRA</th>\n",
       "      <th>REL_SEQ_MARCA_MEDIDOR</th>\n",
       "      <th>REL_SEQ_CAPACIDADE_MEDIDOR</th>\n",
       "      <th>REL_SEQ_MOTIVO_RETIRADA</th>\n",
       "      <th>REL_IDADE_MEDIDOR</th>\n",
       "    </tr>\n",
       "  </thead>\n",
       "  <tbody>\n",
       "    <tr>\n",
       "      <th>count</th>\n",
       "      <td>3.217200e+04</td>\n",
       "      <td>32172.000000</td>\n",
       "      <td>32172.000000</td>\n",
       "      <td>3.217200e+04</td>\n",
       "      <td>32172.000000</td>\n",
       "      <td>32172.000000</td>\n",
       "      <td>32172.000000</td>\n",
       "      <td>32172.000000</td>\n",
       "      <td>32172.000000</td>\n",
       "      <td>32172.000000</td>\n",
       "      <td>...</td>\n",
       "      <td>32172.000000</td>\n",
       "      <td>32172.0</td>\n",
       "      <td>3.217200e+04</td>\n",
       "      <td>3.217200e+04</td>\n",
       "      <td>32172.000000</td>\n",
       "      <td>32172.000000</td>\n",
       "      <td>32172.000000</td>\n",
       "      <td>32172.000000</td>\n",
       "      <td>32172.000000</td>\n",
       "      <td>32150.000000</td>\n",
       "    </tr>\n",
       "    <tr>\n",
       "      <th>mean</th>\n",
       "      <td>1.860421e+06</td>\n",
       "      <td>61.256621</td>\n",
       "      <td>1.647426</td>\n",
       "      <td>5.292229e+06</td>\n",
       "      <td>66.227014</td>\n",
       "      <td>67.601073</td>\n",
       "      <td>68.960051</td>\n",
       "      <td>69.622756</td>\n",
       "      <td>65.399986</td>\n",
       "      <td>66.971307</td>\n",
       "      <td>...</td>\n",
       "      <td>201704.797930</td>\n",
       "      <td>1.0</td>\n",
       "      <td>3.013931e+08</td>\n",
       "      <td>6.437222e+06</td>\n",
       "      <td>44.141831</td>\n",
       "      <td>212.298987</td>\n",
       "      <td>9.943336</td>\n",
       "      <td>3.045257</td>\n",
       "      <td>2.013366</td>\n",
       "      <td>9.335023</td>\n",
       "    </tr>\n",
       "    <tr>\n",
       "      <th>std</th>\n",
       "      <td>1.525756e+05</td>\n",
       "      <td>27.685739</td>\n",
       "      <td>5.814258</td>\n",
       "      <td>3.152288e+06</td>\n",
       "      <td>234.374786</td>\n",
       "      <td>235.566195</td>\n",
       "      <td>237.605682</td>\n",
       "      <td>237.958945</td>\n",
       "      <td>234.183858</td>\n",
       "      <td>234.478994</td>\n",
       "      <td>...</td>\n",
       "      <td>3.169197</td>\n",
       "      <td>0.0</td>\n",
       "      <td>1.207403e+05</td>\n",
       "      <td>1.862299e+07</td>\n",
       "      <td>21.376179</td>\n",
       "      <td>163.792485</td>\n",
       "      <td>0.760689</td>\n",
       "      <td>0.373507</td>\n",
       "      <td>0.121671</td>\n",
       "      <td>1.070626</td>\n",
       "    </tr>\n",
       "    <tr>\n",
       "      <th>min</th>\n",
       "      <td>1.364399e+06</td>\n",
       "      <td>45.000000</td>\n",
       "      <td>1.000000</td>\n",
       "      <td>2.130000e+02</td>\n",
       "      <td>0.000000</td>\n",
       "      <td>0.000000</td>\n",
       "      <td>0.000000</td>\n",
       "      <td>0.000000</td>\n",
       "      <td>0.000000</td>\n",
       "      <td>0.000000</td>\n",
       "      <td>...</td>\n",
       "      <td>201701.000000</td>\n",
       "      <td>1.0</td>\n",
       "      <td>3.012175e+08</td>\n",
       "      <td>2.130000e+02</td>\n",
       "      <td>1.000000</td>\n",
       "      <td>1.000000</td>\n",
       "      <td>3.000000</td>\n",
       "      <td>3.000000</td>\n",
       "      <td>2.000000</td>\n",
       "      <td>0.000000</td>\n",
       "    </tr>\n",
       "    <tr>\n",
       "      <th>25%</th>\n",
       "      <td>1.893494e+06</td>\n",
       "      <td>45.000000</td>\n",
       "      <td>1.000000</td>\n",
       "      <td>2.708214e+06</td>\n",
       "      <td>23.837500</td>\n",
       "      <td>24.700000</td>\n",
       "      <td>25.950000</td>\n",
       "      <td>26.590000</td>\n",
       "      <td>23.100000</td>\n",
       "      <td>24.310000</td>\n",
       "      <td>...</td>\n",
       "      <td>201702.000000</td>\n",
       "      <td>1.0</td>\n",
       "      <td>3.013007e+08</td>\n",
       "      <td>2.717586e+06</td>\n",
       "      <td>28.000000</td>\n",
       "      <td>88.000000</td>\n",
       "      <td>10.000000</td>\n",
       "      <td>3.000000</td>\n",
       "      <td>2.000000</td>\n",
       "      <td>9.000000</td>\n",
       "    </tr>\n",
       "    <tr>\n",
       "      <th>50%</th>\n",
       "      <td>1.911316e+06</td>\n",
       "      <td>48.000000</td>\n",
       "      <td>1.000000</td>\n",
       "      <td>5.088103e+06</td>\n",
       "      <td>33.670000</td>\n",
       "      <td>34.800000</td>\n",
       "      <td>36.140000</td>\n",
       "      <td>36.790000</td>\n",
       "      <td>32.710000</td>\n",
       "      <td>34.170000</td>\n",
       "      <td>...</td>\n",
       "      <td>201704.000000</td>\n",
       "      <td>1.0</td>\n",
       "      <td>3.013594e+08</td>\n",
       "      <td>5.097580e+06</td>\n",
       "      <td>45.000000</td>\n",
       "      <td>171.000000</td>\n",
       "      <td>10.000000</td>\n",
       "      <td>3.000000</td>\n",
       "      <td>2.000000</td>\n",
       "      <td>9.000000</td>\n",
       "    </tr>\n",
       "    <tr>\n",
       "      <th>75%</th>\n",
       "      <td>1.930705e+06</td>\n",
       "      <td>51.000000</td>\n",
       "      <td>1.000000</td>\n",
       "      <td>7.784840e+06</td>\n",
       "      <td>52.432500</td>\n",
       "      <td>53.622500</td>\n",
       "      <td>54.562500</td>\n",
       "      <td>55.010000</td>\n",
       "      <td>51.290000</td>\n",
       "      <td>52.870000</td>\n",
       "      <td>...</td>\n",
       "      <td>201706.000000</td>\n",
       "      <td>1.0</td>\n",
       "      <td>3.014703e+08</td>\n",
       "      <td>7.831872e+06</td>\n",
       "      <td>62.000000</td>\n",
       "      <td>311.000000</td>\n",
       "      <td>10.000000</td>\n",
       "      <td>3.000000</td>\n",
       "      <td>2.000000</td>\n",
       "      <td>10.000000</td>\n",
       "    </tr>\n",
       "    <tr>\n",
       "      <th>max</th>\n",
       "      <td>2.099100e+06</td>\n",
       "      <td>117.000000</td>\n",
       "      <td>240.000000</td>\n",
       "      <td>1.447884e+07</td>\n",
       "      <td>9576.270000</td>\n",
       "      <td>9156.200000</td>\n",
       "      <td>9156.200000</td>\n",
       "      <td>9156.200000</td>\n",
       "      <td>9961.620000</td>\n",
       "      <td>9038.080000</td>\n",
       "      <td>...</td>\n",
       "      <td>201712.000000</td>\n",
       "      <td>1.0</td>\n",
       "      <td>3.016427e+08</td>\n",
       "      <td>3.015552e+08</td>\n",
       "      <td>95.000000</td>\n",
       "      <td>890.000000</td>\n",
       "      <td>12.000000</td>\n",
       "      <td>8.000000</td>\n",
       "      <td>4.000000</td>\n",
       "      <td>17.000000</td>\n",
       "    </tr>\n",
       "  </tbody>\n",
       "</table>\n",
       "<p>8 rows × 54 columns</p>\n",
       "</div>"
      ],
      "text/plain": [
       "       REL_SEQ_DESEMPENHO_MEDIDOR  REL_COD_UNIDADE_ADMIN  REL_QTD_RESIDENCIAL  \\\n",
       "count                3.217200e+04           32172.000000         32172.000000   \n",
       "mean                 1.860421e+06              61.256621             1.647426   \n",
       "std                  1.525756e+05              27.685739             5.814258   \n",
       "min                  1.364399e+06              45.000000             1.000000   \n",
       "25%                  1.893494e+06              45.000000             1.000000   \n",
       "50%                  1.911316e+06              48.000000             1.000000   \n",
       "75%                  1.930705e+06              51.000000             1.000000   \n",
       "max                  2.099100e+06             117.000000           240.000000   \n",
       "\n",
       "       REL_INSCRICAO  REL_VLR_MEDIO_ATUAL_3  REL_VLR_MEDIO_ATUAL_6  \\\n",
       "count   3.217200e+04           32172.000000           32172.000000   \n",
       "mean    5.292229e+06              66.227014              67.601073   \n",
       "std     3.152288e+06             234.374786             235.566195   \n",
       "min     2.130000e+02               0.000000               0.000000   \n",
       "25%     2.708214e+06              23.837500              24.700000   \n",
       "50%     5.088103e+06              33.670000              34.800000   \n",
       "75%     7.784840e+06              52.432500              53.622500   \n",
       "max     1.447884e+07            9576.270000            9156.200000   \n",
       "\n",
       "       REL_VLR_MEDIO_ATUAL_12  REL_VLR_MEDIO_ATUAL_24  \\\n",
       "count            32172.000000            32172.000000   \n",
       "mean                68.960051               69.622756   \n",
       "std                237.605682              237.958945   \n",
       "min                  0.000000                0.000000   \n",
       "25%                 25.950000               26.590000   \n",
       "50%                 36.140000               36.790000   \n",
       "75%                 54.562500               55.010000   \n",
       "max               9156.200000             9156.200000   \n",
       "\n",
       "       REL_VLR_MEDIO_ATUAL_1MES_3  REL_VLR_MEDIO_ATUAL_1MES_6  \\\n",
       "count                32172.000000                32172.000000   \n",
       "mean                    65.399986                   66.971307   \n",
       "std                    234.183858                  234.478994   \n",
       "min                      0.000000                    0.000000   \n",
       "25%                     23.100000                   24.310000   \n",
       "50%                     32.710000                   34.170000   \n",
       "75%                     51.290000                   52.870000   \n",
       "max                   9961.620000                 9038.080000   \n",
       "\n",
       "             ...          REL_COMPETENCIA  REL_LGE_COD_SIG  \\\n",
       "count        ...             32172.000000          32172.0   \n",
       "mean         ...            201704.797930              1.0   \n",
       "std          ...                 3.169197              0.0   \n",
       "min          ...            201701.000000              1.0   \n",
       "25%          ...            201702.000000              1.0   \n",
       "50%          ...            201704.000000              1.0   \n",
       "75%          ...            201706.000000              1.0   \n",
       "max          ...            201712.000000              1.0   \n",
       "\n",
       "       REL_SEQ_INSTALACAO  REL_SEQ_INSTALACAO_ANT  REL_NUM_SETOR  \\\n",
       "count        3.217200e+04            3.217200e+04   32172.000000   \n",
       "mean         3.013931e+08            6.437222e+06      44.141831   \n",
       "std          1.207403e+05            1.862299e+07      21.376179   \n",
       "min          3.012175e+08            2.130000e+02       1.000000   \n",
       "25%          3.013007e+08            2.717586e+06      28.000000   \n",
       "50%          3.013594e+08            5.097580e+06      45.000000   \n",
       "75%          3.014703e+08            7.831872e+06      62.000000   \n",
       "max          3.016427e+08            3.015552e+08      95.000000   \n",
       "\n",
       "       REL_NUM_QUADRA  REL_SEQ_MARCA_MEDIDOR  REL_SEQ_CAPACIDADE_MEDIDOR  \\\n",
       "count    32172.000000           32172.000000                32172.000000   \n",
       "mean       212.298987               9.943336                    3.045257   \n",
       "std        163.792485               0.760689                    0.373507   \n",
       "min          1.000000               3.000000                    3.000000   \n",
       "25%         88.000000              10.000000                    3.000000   \n",
       "50%        171.000000              10.000000                    3.000000   \n",
       "75%        311.000000              10.000000                    3.000000   \n",
       "max        890.000000              12.000000                    8.000000   \n",
       "\n",
       "       REL_SEQ_MOTIVO_RETIRADA  REL_IDADE_MEDIDOR  \n",
       "count             32172.000000       32150.000000  \n",
       "mean                  2.013366           9.335023  \n",
       "std                   0.121671           1.070626  \n",
       "min                   2.000000           0.000000  \n",
       "25%                   2.000000           9.000000  \n",
       "50%                   2.000000           9.000000  \n",
       "75%                   2.000000          10.000000  \n",
       "max                   4.000000          17.000000  \n",
       "\n",
       "[8 rows x 54 columns]"
      ]
     },
     "execution_count": 23,
     "metadata": {},
     "output_type": "execute_result"
    }
   ],
   "source": [
    "df_.describe()"
   ]
  },
  {
   "cell_type": "code",
   "execution_count": 24,
   "metadata": {},
   "outputs": [
    {
     "data": {
      "text/plain": [
       "<matplotlib.axes._subplots.AxesSubplot at 0x12a3fe7f0>"
      ]
     },
     "execution_count": 24,
     "metadata": {},
     "output_type": "execute_result"
    },
    {
     "data": {
      "image/png": "[encoded data removed]",
      "text/plain": [
       "<Figure size 720x360 with 1 Axes>"
      ]
     },
     "metadata": {
      "needs_background": "light"
     },
     "output_type": "display_data"
    }
   ],
   "source": [
    "plt.figure(figsize=(10, 5))\n",
    "plt.title(\"Trocas por idade\")\n",
    "sns.countplot(x='REL_IDADE_MEDIDOR', data=df_, orient=\"h\")"
   ]
  },
  {
   "cell_type": "code",
   "execution_count": 25,
   "metadata": {},
   "outputs": [
    {
     "data": {
      "text/plain": [
       "<matplotlib.axes._subplots.AxesSubplot at 0x128f2e0b8>"
      ]
     },
     "execution_count": 25,
     "metadata": {},
     "output_type": "execute_result"
    },
    {
     "data": {
      "image/png": "[encoded data removed]",
      "text/plain": [
       "<Figure size 1080x576 with 1 Axes>"
      ]
     },
     "metadata": {
      "needs_background": "light"
     },
     "output_type": "display_data"
    }
   ],
   "source": [
    "plt.figure(figsize=(15, 8))\n",
    "plt.title(\"Trocas por Marca\")\n",
    "sns.boxplot(x=\"REL_SEQ_MARCA_MEDIDOR\", y=\"REL_IDADE_MEDIDOR\", data=df_)"
   ]
  },
  {
   "cell_type": "code",
   "execution_count": 29,
   "metadata": {},
   "outputs": [
    {
     "data": {
      "text/plain": [
       "<matplotlib.axes._subplots.AxesSubplot at 0x125214828>"
      ]
     },
     "execution_count": 29,
     "metadata": {},
     "output_type": "execute_result"
    },
    {
     "data": {
      "image/png": "[encoded data removed]",
      "text/plain": [
       "<Figure size 1800x720 with 1 Axes>"
      ]
     },
     "metadata": {
      "needs_background": "light"
     },
     "output_type": "display_data"
    }
   ],
   "source": [
    "plt.figure(figsize=(25, 10))\n",
    "plt.title(\"Trocas qtd. Economias\")\n",
    "sns.boxplot(x=\"REL_QTD_RESIDENCIAL\", y=\"REL_IDADE_MEDIDOR\", data=df_)"
   ]
  },
  {
   "cell_type": "code",
   "execution_count": 28,
   "metadata": {},
   "outputs": [
    {
     "data": {
      "text/plain": [
       "count    32172.000000\n",
       "mean         1.647426\n",
       "std          5.814258\n",
       "min          1.000000\n",
       "25%          1.000000\n",
       "50%          1.000000\n",
       "75%          1.000000\n",
       "max        240.000000\n",
       "Name: REL_QTD_RESIDENCIAL, dtype: float64"
      ]
     },
     "execution_count": 28,
     "metadata": {},
     "output_type": "execute_result"
    }
   ],
   "source": [
    "#Resumo estatistico da coluna\n",
    "df_['REL_QTD_RESIDENCIAL'].describe()"
   ]
  },
  {
   "cell_type": "code",
   "execution_count": 30,
   "metadata": {},
   "outputs": [
    {
     "data": {
      "text/plain": [
       "<matplotlib.axes._subplots.AxesSubplot at 0x125396550>"
      ]
     },
     "execution_count": 30,
     "metadata": {},
     "output_type": "execute_result"
    },
    {
     "data": {
      "image/png": "[encoded data removed]",
      "text/plain": [
       "<Figure size 720x360 with 1 Axes>"
      ]
     },
     "metadata": {
      "needs_background": "light"
     },
     "output_type": "display_data"
    }
   ],
   "source": [
    "plt.figure(figsize=(10, 5))\n",
    "plt.title(\"Trocas por capacidade\")\n",
    "sns.countplot(x='REL_SEQ_CAPACIDADE_MEDIDOR', data=df_, orient=\"h\")"
   ]
  },
  {
   "cell_type": "code",
   "execution_count": 31,
   "metadata": {},
   "outputs": [
    {
     "data": {
      "text/plain": [
       "REL_SEQ_CAPACIDADE_MEDIDOR\n",
       "3    31667\n",
       "5      201\n",
       "6      172\n",
       "7      122\n",
       "8       10\n",
       "Name: REL_SEQ_CAPACIDADE_MEDIDOR, dtype: int64"
      ]
     },
     "execution_count": 31,
     "metadata": {},
     "output_type": "execute_result"
    }
   ],
   "source": [
    "df_.groupby('REL_SEQ_CAPACIDADE_MEDIDOR')['REL_SEQ_CAPACIDADE_MEDIDOR'].count()"
   ]
  },
  {
   "cell_type": "code",
   "execution_count": 32,
   "metadata": {},
   "outputs": [
    {
     "data": {
      "text/plain": [
       "<matplotlib.axes._subplots.AxesSubplot at 0x125522438>"
      ]
     },
     "execution_count": 32,
     "metadata": {},
     "output_type": "execute_result"
    },
    {
     "data": {
      "image/png": "[encoded data removed]",
      "text/plain": [
       "<Figure size 1800x720 with 1 Axes>"
      ]
     },
     "metadata": {
      "needs_background": "light"
     },
     "output_type": "display_data"
    }
   ],
   "source": [
    "plt.figure(figsize=(25, 10))\n",
    "plt.title(\"Trocas por capacidade do medidor\")\n",
    "sns.boxplot(x=\"REL_SEQ_CAPACIDADE_MEDIDOR\", y=\"REL_IDADE_MEDIDOR\", data=df_)"
   ]
  },
  {
   "cell_type": "code",
   "execution_count": null,
   "metadata": {},
   "outputs": [],
   "source": []
  }
 ],
 "metadata": {
  "kernelspec": {
   "display_name": "Python 3",
   "language": "python",
   "name": "python3"
  },
  "language_info": {
   "codemirror_mode": {
    "name": "ipython",
    "version": 3
   },
   "file_extension": ".py",
   "mimetype": "text/x-python",
   "name": "python",
   "nbconvert_exporter": "python",
   "pygments_lexer": "ipython3",
   "version": "3.6.7"
  }
 },
 "nbformat": 4,
 "nbformat_minor": 2
}
